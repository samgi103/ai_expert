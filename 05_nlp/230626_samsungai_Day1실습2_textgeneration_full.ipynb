{
  "cells": [
    {
      "cell_type": "markdown",
      "metadata": {
        "id": "83131ONwbErC"
      },
      "source": [
        "## 1. Preparations\n",
        "- 아래 첫번째 셀 실행후 위에서 런타임-> 런타임 다시 시작 클릭"
      ]
    },
    {
      "cell_type": "code",
      "execution_count": 35,
      "metadata": {
        "id": "MmU1n8_Hpmqv",
        "colab": {
          "base_uri": "https://localhost:8080/"
        },
        "outputId": "d00935da-cd61-435a-b1ab-b2d0612fd3b8"
      },
      "outputs": [
        {
          "output_type": "stream",
          "name": "stdout",
          "text": [
            "2023-06-25 13:16:56.713135: W tensorflow/compiler/tf2tensorrt/utils/py_utils.cc:38] TF-TRT Warning: Could not find TensorRT\n",
            "Looking in indexes: https://pypi.org/simple, https://us-python.pkg.dev/colab-wheels/public/simple/\n",
            "Collecting de-core-news-sm==3.5.0\n",
            "  Downloading https://github.com/explosion/spacy-models/releases/download/de_core_news_sm-3.5.0/de_core_news_sm-3.5.0-py3-none-any.whl (14.6 MB)\n",
            "\u001b[2K     \u001b[90m━━━━━━━━━━━━━━━━━━━━━━━━━━━━━━━━━━━━━━━━\u001b[0m \u001b[32m14.6/14.6 MB\u001b[0m \u001b[31m26.3 MB/s\u001b[0m eta \u001b[36m0:00:00\u001b[0m\n",
            "\u001b[?25hRequirement already satisfied: spacy<3.6.0,>=3.5.0 in /usr/local/lib/python3.10/dist-packages (from de-core-news-sm==3.5.0) (3.5.3)\n",
            "Requirement already satisfied: spacy-legacy<3.1.0,>=3.0.11 in /usr/local/lib/python3.10/dist-packages (from spacy<3.6.0,>=3.5.0->de-core-news-sm==3.5.0) (3.0.12)\n",
            "Requirement already satisfied: spacy-loggers<2.0.0,>=1.0.0 in /usr/local/lib/python3.10/dist-packages (from spacy<3.6.0,>=3.5.0->de-core-news-sm==3.5.0) (1.0.4)\n",
            "Requirement already satisfied: murmurhash<1.1.0,>=0.28.0 in /usr/local/lib/python3.10/dist-packages (from spacy<3.6.0,>=3.5.0->de-core-news-sm==3.5.0) (1.0.9)\n",
            "Requirement already satisfied: cymem<2.1.0,>=2.0.2 in /usr/local/lib/python3.10/dist-packages (from spacy<3.6.0,>=3.5.0->de-core-news-sm==3.5.0) (2.0.7)\n",
            "Requirement already satisfied: preshed<3.1.0,>=3.0.2 in /usr/local/lib/python3.10/dist-packages (from spacy<3.6.0,>=3.5.0->de-core-news-sm==3.5.0) (3.0.8)\n",
            "Requirement already satisfied: thinc<8.2.0,>=8.1.8 in /usr/local/lib/python3.10/dist-packages (from spacy<3.6.0,>=3.5.0->de-core-news-sm==3.5.0) (8.1.10)\n",
            "Requirement already satisfied: wasabi<1.2.0,>=0.9.1 in /usr/local/lib/python3.10/dist-packages (from spacy<3.6.0,>=3.5.0->de-core-news-sm==3.5.0) (1.1.2)\n",
            "Requirement already satisfied: srsly<3.0.0,>=2.4.3 in /usr/local/lib/python3.10/dist-packages (from spacy<3.6.0,>=3.5.0->de-core-news-sm==3.5.0) (2.4.6)\n",
            "Requirement already satisfied: catalogue<2.1.0,>=2.0.6 in /usr/local/lib/python3.10/dist-packages (from spacy<3.6.0,>=3.5.0->de-core-news-sm==3.5.0) (2.0.8)\n",
            "Requirement already satisfied: typer<0.8.0,>=0.3.0 in /usr/local/lib/python3.10/dist-packages (from spacy<3.6.0,>=3.5.0->de-core-news-sm==3.5.0) (0.7.0)\n",
            "Requirement already satisfied: pathy>=0.10.0 in /usr/local/lib/python3.10/dist-packages (from spacy<3.6.0,>=3.5.0->de-core-news-sm==3.5.0) (0.10.2)\n",
            "Requirement already satisfied: smart-open<7.0.0,>=5.2.1 in /usr/local/lib/python3.10/dist-packages (from spacy<3.6.0,>=3.5.0->de-core-news-sm==3.5.0) (6.3.0)\n",
            "Requirement already satisfied: tqdm<5.0.0,>=4.38.0 in /usr/local/lib/python3.10/dist-packages (from spacy<3.6.0,>=3.5.0->de-core-news-sm==3.5.0) (4.65.0)\n",
            "Requirement already satisfied: numpy>=1.15.0 in /usr/local/lib/python3.10/dist-packages (from spacy<3.6.0,>=3.5.0->de-core-news-sm==3.5.0) (1.22.4)\n",
            "Requirement already satisfied: requests<3.0.0,>=2.13.0 in /usr/local/lib/python3.10/dist-packages (from spacy<3.6.0,>=3.5.0->de-core-news-sm==3.5.0) (2.27.1)\n",
            "Requirement already satisfied: pydantic!=1.8,!=1.8.1,<1.11.0,>=1.7.4 in /usr/local/lib/python3.10/dist-packages (from spacy<3.6.0,>=3.5.0->de-core-news-sm==3.5.0) (1.10.9)\n",
            "Requirement already satisfied: jinja2 in /usr/local/lib/python3.10/dist-packages (from spacy<3.6.0,>=3.5.0->de-core-news-sm==3.5.0) (3.1.2)\n",
            "Requirement already satisfied: setuptools in /usr/local/lib/python3.10/dist-packages (from spacy<3.6.0,>=3.5.0->de-core-news-sm==3.5.0) (67.7.2)\n",
            "Requirement already satisfied: packaging>=20.0 in /usr/local/lib/python3.10/dist-packages (from spacy<3.6.0,>=3.5.0->de-core-news-sm==3.5.0) (23.1)\n",
            "Requirement already satisfied: langcodes<4.0.0,>=3.2.0 in /usr/local/lib/python3.10/dist-packages (from spacy<3.6.0,>=3.5.0->de-core-news-sm==3.5.0) (3.3.0)\n",
            "Requirement already satisfied: typing-extensions>=4.2.0 in /usr/local/lib/python3.10/dist-packages (from pydantic!=1.8,!=1.8.1,<1.11.0,>=1.7.4->spacy<3.6.0,>=3.5.0->de-core-news-sm==3.5.0) (4.6.3)\n",
            "Requirement already satisfied: urllib3<1.27,>=1.21.1 in /usr/local/lib/python3.10/dist-packages (from requests<3.0.0,>=2.13.0->spacy<3.6.0,>=3.5.0->de-core-news-sm==3.5.0) (1.26.16)\n",
            "Requirement already satisfied: certifi>=2017.4.17 in /usr/local/lib/python3.10/dist-packages (from requests<3.0.0,>=2.13.0->spacy<3.6.0,>=3.5.0->de-core-news-sm==3.5.0) (2023.5.7)\n",
            "Requirement already satisfied: charset-normalizer~=2.0.0 in /usr/local/lib/python3.10/dist-packages (from requests<3.0.0,>=2.13.0->spacy<3.6.0,>=3.5.0->de-core-news-sm==3.5.0) (2.0.12)\n",
            "Requirement already satisfied: idna<4,>=2.5 in /usr/local/lib/python3.10/dist-packages (from requests<3.0.0,>=2.13.0->spacy<3.6.0,>=3.5.0->de-core-news-sm==3.5.0) (3.4)\n",
            "Requirement already satisfied: blis<0.8.0,>=0.7.8 in /usr/local/lib/python3.10/dist-packages (from thinc<8.2.0,>=8.1.8->spacy<3.6.0,>=3.5.0->de-core-news-sm==3.5.0) (0.7.9)\n",
            "Requirement already satisfied: confection<1.0.0,>=0.0.1 in /usr/local/lib/python3.10/dist-packages (from thinc<8.2.0,>=8.1.8->spacy<3.6.0,>=3.5.0->de-core-news-sm==3.5.0) (0.0.4)\n",
            "Requirement already satisfied: click<9.0.0,>=7.1.1 in /usr/local/lib/python3.10/dist-packages (from typer<0.8.0,>=0.3.0->spacy<3.6.0,>=3.5.0->de-core-news-sm==3.5.0) (8.1.3)\n",
            "Requirement already satisfied: MarkupSafe>=2.0 in /usr/local/lib/python3.10/dist-packages (from jinja2->spacy<3.6.0,>=3.5.0->de-core-news-sm==3.5.0) (2.1.3)\n",
            "\u001b[38;5;2m✔ Download and installation successful\u001b[0m\n",
            "You can now load the package via spacy.load('de_core_news_sm')\n",
            "2023-06-25 13:17:12.426197: W tensorflow/compiler/tf2tensorrt/utils/py_utils.cc:38] TF-TRT Warning: Could not find TensorRT\n",
            "Looking in indexes: https://pypi.org/simple, https://us-python.pkg.dev/colab-wheels/public/simple/\n",
            "Collecting en-core-web-sm==3.5.0\n",
            "  Downloading https://github.com/explosion/spacy-models/releases/download/en_core_web_sm-3.5.0/en_core_web_sm-3.5.0-py3-none-any.whl (12.8 MB)\n",
            "\u001b[2K     \u001b[90m━━━━━━━━━━━━━━━━━━━━━━━━━━━━━━━━━━━━━━━━\u001b[0m \u001b[32m12.8/12.8 MB\u001b[0m \u001b[31m98.9 MB/s\u001b[0m eta \u001b[36m0:00:00\u001b[0m\n",
            "\u001b[?25hRequirement already satisfied: spacy<3.6.0,>=3.5.0 in /usr/local/lib/python3.10/dist-packages (from en-core-web-sm==3.5.0) (3.5.3)\n",
            "Requirement already satisfied: spacy-legacy<3.1.0,>=3.0.11 in /usr/local/lib/python3.10/dist-packages (from spacy<3.6.0,>=3.5.0->en-core-web-sm==3.5.0) (3.0.12)\n",
            "Requirement already satisfied: spacy-loggers<2.0.0,>=1.0.0 in /usr/local/lib/python3.10/dist-packages (from spacy<3.6.0,>=3.5.0->en-core-web-sm==3.5.0) (1.0.4)\n",
            "Requirement already satisfied: murmurhash<1.1.0,>=0.28.0 in /usr/local/lib/python3.10/dist-packages (from spacy<3.6.0,>=3.5.0->en-core-web-sm==3.5.0) (1.0.9)\n",
            "Requirement already satisfied: cymem<2.1.0,>=2.0.2 in /usr/local/lib/python3.10/dist-packages (from spacy<3.6.0,>=3.5.0->en-core-web-sm==3.5.0) (2.0.7)\n",
            "Requirement already satisfied: preshed<3.1.0,>=3.0.2 in /usr/local/lib/python3.10/dist-packages (from spacy<3.6.0,>=3.5.0->en-core-web-sm==3.5.0) (3.0.8)\n",
            "Requirement already satisfied: thinc<8.2.0,>=8.1.8 in /usr/local/lib/python3.10/dist-packages (from spacy<3.6.0,>=3.5.0->en-core-web-sm==3.5.0) (8.1.10)\n",
            "Requirement already satisfied: wasabi<1.2.0,>=0.9.1 in /usr/local/lib/python3.10/dist-packages (from spacy<3.6.0,>=3.5.0->en-core-web-sm==3.5.0) (1.1.2)\n",
            "Requirement already satisfied: srsly<3.0.0,>=2.4.3 in /usr/local/lib/python3.10/dist-packages (from spacy<3.6.0,>=3.5.0->en-core-web-sm==3.5.0) (2.4.6)\n",
            "Requirement already satisfied: catalogue<2.1.0,>=2.0.6 in /usr/local/lib/python3.10/dist-packages (from spacy<3.6.0,>=3.5.0->en-core-web-sm==3.5.0) (2.0.8)\n",
            "Requirement already satisfied: typer<0.8.0,>=0.3.0 in /usr/local/lib/python3.10/dist-packages (from spacy<3.6.0,>=3.5.0->en-core-web-sm==3.5.0) (0.7.0)\n",
            "Requirement already satisfied: pathy>=0.10.0 in /usr/local/lib/python3.10/dist-packages (from spacy<3.6.0,>=3.5.0->en-core-web-sm==3.5.0) (0.10.2)\n",
            "Requirement already satisfied: smart-open<7.0.0,>=5.2.1 in /usr/local/lib/python3.10/dist-packages (from spacy<3.6.0,>=3.5.0->en-core-web-sm==3.5.0) (6.3.0)\n",
            "Requirement already satisfied: tqdm<5.0.0,>=4.38.0 in /usr/local/lib/python3.10/dist-packages (from spacy<3.6.0,>=3.5.0->en-core-web-sm==3.5.0) (4.65.0)\n",
            "Requirement already satisfied: numpy>=1.15.0 in /usr/local/lib/python3.10/dist-packages (from spacy<3.6.0,>=3.5.0->en-core-web-sm==3.5.0) (1.22.4)\n",
            "Requirement already satisfied: requests<3.0.0,>=2.13.0 in /usr/local/lib/python3.10/dist-packages (from spacy<3.6.0,>=3.5.0->en-core-web-sm==3.5.0) (2.27.1)\n",
            "Requirement already satisfied: pydantic!=1.8,!=1.8.1,<1.11.0,>=1.7.4 in /usr/local/lib/python3.10/dist-packages (from spacy<3.6.0,>=3.5.0->en-core-web-sm==3.5.0) (1.10.9)\n",
            "Requirement already satisfied: jinja2 in /usr/local/lib/python3.10/dist-packages (from spacy<3.6.0,>=3.5.0->en-core-web-sm==3.5.0) (3.1.2)\n",
            "Requirement already satisfied: setuptools in /usr/local/lib/python3.10/dist-packages (from spacy<3.6.0,>=3.5.0->en-core-web-sm==3.5.0) (67.7.2)\n",
            "Requirement already satisfied: packaging>=20.0 in /usr/local/lib/python3.10/dist-packages (from spacy<3.6.0,>=3.5.0->en-core-web-sm==3.5.0) (23.1)\n",
            "Requirement already satisfied: langcodes<4.0.0,>=3.2.0 in /usr/local/lib/python3.10/dist-packages (from spacy<3.6.0,>=3.5.0->en-core-web-sm==3.5.0) (3.3.0)\n",
            "Requirement already satisfied: typing-extensions>=4.2.0 in /usr/local/lib/python3.10/dist-packages (from pydantic!=1.8,!=1.8.1,<1.11.0,>=1.7.4->spacy<3.6.0,>=3.5.0->en-core-web-sm==3.5.0) (4.6.3)\n",
            "Requirement already satisfied: urllib3<1.27,>=1.21.1 in /usr/local/lib/python3.10/dist-packages (from requests<3.0.0,>=2.13.0->spacy<3.6.0,>=3.5.0->en-core-web-sm==3.5.0) (1.26.16)\n",
            "Requirement already satisfied: certifi>=2017.4.17 in /usr/local/lib/python3.10/dist-packages (from requests<3.0.0,>=2.13.0->spacy<3.6.0,>=3.5.0->en-core-web-sm==3.5.0) (2023.5.7)\n",
            "Requirement already satisfied: charset-normalizer~=2.0.0 in /usr/local/lib/python3.10/dist-packages (from requests<3.0.0,>=2.13.0->spacy<3.6.0,>=3.5.0->en-core-web-sm==3.5.0) (2.0.12)\n",
            "Requirement already satisfied: idna<4,>=2.5 in /usr/local/lib/python3.10/dist-packages (from requests<3.0.0,>=2.13.0->spacy<3.6.0,>=3.5.0->en-core-web-sm==3.5.0) (3.4)\n",
            "Requirement already satisfied: blis<0.8.0,>=0.7.8 in /usr/local/lib/python3.10/dist-packages (from thinc<8.2.0,>=8.1.8->spacy<3.6.0,>=3.5.0->en-core-web-sm==3.5.0) (0.7.9)\n",
            "Requirement already satisfied: confection<1.0.0,>=0.0.1 in /usr/local/lib/python3.10/dist-packages (from thinc<8.2.0,>=8.1.8->spacy<3.6.0,>=3.5.0->en-core-web-sm==3.5.0) (0.0.4)\n",
            "Requirement already satisfied: click<9.0.0,>=7.1.1 in /usr/local/lib/python3.10/dist-packages (from typer<0.8.0,>=0.3.0->spacy<3.6.0,>=3.5.0->en-core-web-sm==3.5.0) (8.1.3)\n",
            "Requirement already satisfied: MarkupSafe>=2.0 in /usr/local/lib/python3.10/dist-packages (from jinja2->spacy<3.6.0,>=3.5.0->en-core-web-sm==3.5.0) (2.1.3)\n",
            "\u001b[38;5;2m✔ Download and installation successful\u001b[0m\n",
            "You can now load the package via spacy.load('en_core_web_sm')\n",
            "Looking in indexes: https://pypi.org/simple, https://us-python.pkg.dev/colab-wheels/public/simple/\n",
            "Requirement already satisfied: torchdata in /usr/local/lib/python3.10/dist-packages (0.6.1)\n",
            "Requirement already satisfied: urllib3>=1.25 in /usr/local/lib/python3.10/dist-packages (from torchdata) (1.26.16)\n",
            "Requirement already satisfied: requests in /usr/local/lib/python3.10/dist-packages (from torchdata) (2.27.1)\n",
            "Requirement already satisfied: torch==2.0.1 in /usr/local/lib/python3.10/dist-packages (from torchdata) (2.0.1+cu118)\n",
            "Requirement already satisfied: filelock in /usr/local/lib/python3.10/dist-packages (from torch==2.0.1->torchdata) (3.12.2)\n",
            "Requirement already satisfied: typing-extensions in /usr/local/lib/python3.10/dist-packages (from torch==2.0.1->torchdata) (4.6.3)\n",
            "Requirement already satisfied: sympy in /usr/local/lib/python3.10/dist-packages (from torch==2.0.1->torchdata) (1.11.1)\n",
            "Requirement already satisfied: networkx in /usr/local/lib/python3.10/dist-packages (from torch==2.0.1->torchdata) (3.1)\n",
            "Requirement already satisfied: jinja2 in /usr/local/lib/python3.10/dist-packages (from torch==2.0.1->torchdata) (3.1.2)\n",
            "Requirement already satisfied: triton==2.0.0 in /usr/local/lib/python3.10/dist-packages (from torch==2.0.1->torchdata) (2.0.0)\n",
            "Requirement already satisfied: cmake in /usr/local/lib/python3.10/dist-packages (from triton==2.0.0->torch==2.0.1->torchdata) (3.25.2)\n",
            "Requirement already satisfied: lit in /usr/local/lib/python3.10/dist-packages (from triton==2.0.0->torch==2.0.1->torchdata) (16.0.6)\n",
            "Requirement already satisfied: certifi>=2017.4.17 in /usr/local/lib/python3.10/dist-packages (from requests->torchdata) (2023.5.7)\n",
            "Requirement already satisfied: charset-normalizer~=2.0.0 in /usr/local/lib/python3.10/dist-packages (from requests->torchdata) (2.0.12)\n",
            "Requirement already satisfied: idna<4,>=2.5 in /usr/local/lib/python3.10/dist-packages (from requests->torchdata) (3.4)\n",
            "Requirement already satisfied: MarkupSafe>=2.0 in /usr/local/lib/python3.10/dist-packages (from jinja2->torch==2.0.1->torchdata) (2.1.3)\n",
            "Requirement already satisfied: mpmath>=0.19 in /usr/local/lib/python3.10/dist-packages (from sympy->torch==2.0.1->torchdata) (1.3.0)\n"
          ]
        }
      ],
      "source": [
        "!python -m spacy download de_core_news_sm\n",
        "!python -m spacy download en_core_web_sm\n",
        "!pip install torchdata"
      ]
    },
    {
      "cell_type": "code",
      "source": [
        "import torchtext\n",
        "print(torchtext.__version__)"
      ],
      "metadata": {
        "colab": {
          "base_uri": "https://localhost:8080/"
        },
        "id": "war1um4lpAQ2",
        "outputId": "c2c9c74e-84eb-4181-9d3e-797f5a645632"
      },
      "execution_count": 36,
      "outputs": [
        {
          "output_type": "stream",
          "name": "stdout",
          "text": [
            "0.15.2+cpu\n"
          ]
        }
      ]
    },
    {
      "cell_type": "code",
      "execution_count": 37,
      "metadata": {
        "id": "w-TjhUtgpmqy"
      },
      "outputs": [],
      "source": [
        "import torch\n",
        "import torch.nn as nn\n",
        "import torch.optim as optim\n",
        "import torch.nn.functional as F\n",
        "from torchtext import data\n",
        "#from torchtext.data import Field\n",
        "from torchtext import datasets\n",
        "from torchtext.data.utils import get_tokenizer\n",
        "from torchtext.vocab import build_vocab_from_iterator, vocab\n",
        "from torchtext.datasets import Multi30k\n",
        "from typing import Iterable, List\n",
        "from torch.utils.data import DataLoader\n",
        "from torch.nn.utils.rnn import pad_sequence\n",
        "from torchtext.utils import download_from_url, extract_archive\n",
        "from collections import Counter\n",
        "\n",
        "\n",
        "\n",
        "import spacy\n",
        "import numpy as np\n",
        "\n",
        "import random\n",
        "import math\n",
        "import time\n",
        "import io\n",
        "\n",
        "device = torch.device('cuda' if torch.cuda.is_available() else 'cpu')"
      ]
    },
    {
      "cell_type": "code",
      "execution_count": 37,
      "metadata": {
        "id": "owam8jxvZwS6"
      },
      "outputs": [],
      "source": []
    },
    {
      "cell_type": "code",
      "execution_count": 38,
      "metadata": {
        "id": "ErTvWdfUN4qD"
      },
      "outputs": [],
      "source": [
        "SRC_LANGUAGE = 'en'\n",
        "TGT_LANGUAGE = 'de'"
      ]
    },
    {
      "cell_type": "markdown",
      "metadata": {
        "id": "vhU3EaiMZxEe"
      },
      "source": [
        "##Create Source and Target Tokenizer"
      ]
    },
    {
      "cell_type": "code",
      "execution_count": 39,
      "metadata": {
        "id": "F0NRN0JYpmqy"
      },
      "outputs": [],
      "source": [
        "spacy_de= spacy.load('de_core_news_sm')\n",
        "spacy_en = spacy.load('en_core_web_sm')\n"
      ]
    },
    {
      "cell_type": "code",
      "execution_count": 40,
      "metadata": {
        "id": "yeSW1VeJR2PR"
      },
      "outputs": [],
      "source": [
        "tokenizer_de= get_tokenizer('spacy', language='de_core_news_sm')\n",
        "tokenizer_en= get_tokenizer('spacy', language='en_core_web_sm')"
      ]
    },
    {
      "cell_type": "code",
      "execution_count": 41,
      "metadata": {
        "colab": {
          "base_uri": "https://localhost:8080/"
        },
        "id": "7MiVOXVjSdGw",
        "outputId": "5b1d25fb-a673-4b65-ef78-2e1992a1c7f7"
      },
      "outputs": [
        {
          "output_type": "execute_result",
          "data": {
            "text/plain": [
              "['he', 'was', 'bored']"
            ]
          },
          "metadata": {},
          "execution_count": 41
        }
      ],
      "source": [
        "tokenizer_en(\"he was bored\")"
      ]
    },
    {
      "cell_type": "markdown",
      "metadata": {
        "id": "9llQYkMRZs6t"
      },
      "source": [
        "##Load Data"
      ]
    },
    {
      "cell_type": "markdown",
      "source": [],
      "metadata": {
        "id": "65e7a5HvdBTn"
      }
    },
    {
      "cell_type": "code",
      "execution_count": 42,
      "metadata": {
        "colab": {
          "base_uri": "https://localhost:8080/",
          "height": 202
        },
        "id": "1TmI4MzoVqdx",
        "outputId": "d2f25a40-3a8a-4b2c-ee63-130fcf5e4f57"
      },
      "outputs": [
        {
          "output_type": "display_data",
          "data": {
            "text/plain": [
              "<IPython.core.display.HTML object>"
            ],
            "text/html": [
              "\n",
              "     <input type=\"file\" id=\"files-e54519ee-16ae-49d5-a7c0-127b6ca72723\" name=\"files[]\" multiple disabled\n",
              "        style=\"border:none\" />\n",
              "     <output id=\"result-e54519ee-16ae-49d5-a7c0-127b6ca72723\">\n",
              "      Upload widget is only available when the cell has been executed in the\n",
              "      current browser session. Please rerun this cell to enable.\n",
              "      </output>\n",
              "      <script>// Copyright 2017 Google LLC\n",
              "//\n",
              "// Licensed under the Apache License, Version 2.0 (the \"License\");\n",
              "// you may not use this file except in compliance with the License.\n",
              "// You may obtain a copy of the License at\n",
              "//\n",
              "//      http://www.apache.org/licenses/LICENSE-2.0\n",
              "//\n",
              "// Unless required by applicable law or agreed to in writing, software\n",
              "// distributed under the License is distributed on an \"AS IS\" BASIS,\n",
              "// WITHOUT WARRANTIES OR CONDITIONS OF ANY KIND, either express or implied.\n",
              "// See the License for the specific language governing permissions and\n",
              "// limitations under the License.\n",
              "\n",
              "/**\n",
              " * @fileoverview Helpers for google.colab Python module.\n",
              " */\n",
              "(function(scope) {\n",
              "function span(text, styleAttributes = {}) {\n",
              "  const element = document.createElement('span');\n",
              "  element.textContent = text;\n",
              "  for (const key of Object.keys(styleAttributes)) {\n",
              "    element.style[key] = styleAttributes[key];\n",
              "  }\n",
              "  return element;\n",
              "}\n",
              "\n",
              "// Max number of bytes which will be uploaded at a time.\n",
              "const MAX_PAYLOAD_SIZE = 100 * 1024;\n",
              "\n",
              "function _uploadFiles(inputId, outputId) {\n",
              "  const steps = uploadFilesStep(inputId, outputId);\n",
              "  const outputElement = document.getElementById(outputId);\n",
              "  // Cache steps on the outputElement to make it available for the next call\n",
              "  // to uploadFilesContinue from Python.\n",
              "  outputElement.steps = steps;\n",
              "\n",
              "  return _uploadFilesContinue(outputId);\n",
              "}\n",
              "\n",
              "// This is roughly an async generator (not supported in the browser yet),\n",
              "// where there are multiple asynchronous steps and the Python side is going\n",
              "// to poll for completion of each step.\n",
              "// This uses a Promise to block the python side on completion of each step,\n",
              "// then passes the result of the previous step as the input to the next step.\n",
              "function _uploadFilesContinue(outputId) {\n",
              "  const outputElement = document.getElementById(outputId);\n",
              "  const steps = outputElement.steps;\n",
              "\n",
              "  const next = steps.next(outputElement.lastPromiseValue);\n",
              "  return Promise.resolve(next.value.promise).then((value) => {\n",
              "    // Cache the last promise value to make it available to the next\n",
              "    // step of the generator.\n",
              "    outputElement.lastPromiseValue = value;\n",
              "    return next.value.response;\n",
              "  });\n",
              "}\n",
              "\n",
              "/**\n",
              " * Generator function which is called between each async step of the upload\n",
              " * process.\n",
              " * @param {string} inputId Element ID of the input file picker element.\n",
              " * @param {string} outputId Element ID of the output display.\n",
              " * @return {!Iterable<!Object>} Iterable of next steps.\n",
              " */\n",
              "function* uploadFilesStep(inputId, outputId) {\n",
              "  const inputElement = document.getElementById(inputId);\n",
              "  inputElement.disabled = false;\n",
              "\n",
              "  const outputElement = document.getElementById(outputId);\n",
              "  outputElement.innerHTML = '';\n",
              "\n",
              "  const pickedPromise = new Promise((resolve) => {\n",
              "    inputElement.addEventListener('change', (e) => {\n",
              "      resolve(e.target.files);\n",
              "    });\n",
              "  });\n",
              "\n",
              "  const cancel = document.createElement('button');\n",
              "  inputElement.parentElement.appendChild(cancel);\n",
              "  cancel.textContent = 'Cancel upload';\n",
              "  const cancelPromise = new Promise((resolve) => {\n",
              "    cancel.onclick = () => {\n",
              "      resolve(null);\n",
              "    };\n",
              "  });\n",
              "\n",
              "  // Wait for the user to pick the files.\n",
              "  const files = yield {\n",
              "    promise: Promise.race([pickedPromise, cancelPromise]),\n",
              "    response: {\n",
              "      action: 'starting',\n",
              "    }\n",
              "  };\n",
              "\n",
              "  cancel.remove();\n",
              "\n",
              "  // Disable the input element since further picks are not allowed.\n",
              "  inputElement.disabled = true;\n",
              "\n",
              "  if (!files) {\n",
              "    return {\n",
              "      response: {\n",
              "        action: 'complete',\n",
              "      }\n",
              "    };\n",
              "  }\n",
              "\n",
              "  for (const file of files) {\n",
              "    const li = document.createElement('li');\n",
              "    li.append(span(file.name, {fontWeight: 'bold'}));\n",
              "    li.append(span(\n",
              "        `(${file.type || 'n/a'}) - ${file.size} bytes, ` +\n",
              "        `last modified: ${\n",
              "            file.lastModifiedDate ? file.lastModifiedDate.toLocaleDateString() :\n",
              "                                    'n/a'} - `));\n",
              "    const percent = span('0% done');\n",
              "    li.appendChild(percent);\n",
              "\n",
              "    outputElement.appendChild(li);\n",
              "\n",
              "    const fileDataPromise = new Promise((resolve) => {\n",
              "      const reader = new FileReader();\n",
              "      reader.onload = (e) => {\n",
              "        resolve(e.target.result);\n",
              "      };\n",
              "      reader.readAsArrayBuffer(file);\n",
              "    });\n",
              "    // Wait for the data to be ready.\n",
              "    let fileData = yield {\n",
              "      promise: fileDataPromise,\n",
              "      response: {\n",
              "        action: 'continue',\n",
              "      }\n",
              "    };\n",
              "\n",
              "    // Use a chunked sending to avoid message size limits. See b/62115660.\n",
              "    let position = 0;\n",
              "    do {\n",
              "      const length = Math.min(fileData.byteLength - position, MAX_PAYLOAD_SIZE);\n",
              "      const chunk = new Uint8Array(fileData, position, length);\n",
              "      position += length;\n",
              "\n",
              "      const base64 = btoa(String.fromCharCode.apply(null, chunk));\n",
              "      yield {\n",
              "        response: {\n",
              "          action: 'append',\n",
              "          file: file.name,\n",
              "          data: base64,\n",
              "        },\n",
              "      };\n",
              "\n",
              "      let percentDone = fileData.byteLength === 0 ?\n",
              "          100 :\n",
              "          Math.round((position / fileData.byteLength) * 100);\n",
              "      percent.textContent = `${percentDone}% done`;\n",
              "\n",
              "    } while (position < fileData.byteLength);\n",
              "  }\n",
              "\n",
              "  // All done.\n",
              "  yield {\n",
              "    response: {\n",
              "      action: 'complete',\n",
              "    }\n",
              "  };\n",
              "}\n",
              "\n",
              "scope.google = scope.google || {};\n",
              "scope.google.colab = scope.google.colab || {};\n",
              "scope.google.colab._files = {\n",
              "  _uploadFiles,\n",
              "  _uploadFilesContinue,\n",
              "};\n",
              "})(self);\n",
              "</script> "
            ]
          },
          "metadata": {}
        },
        {
          "output_type": "stream",
          "name": "stdout",
          "text": [
            "Saving test.json to test (1).json\n",
            "Saving train.json to train (1).json\n",
            "Saving valid.json to valid (1).json\n",
            "User uploaded file \"test.json\"\n",
            "User uploaded file \"train.json\"\n",
            "User uploaded file \"valid.json\"\n"
          ]
        }
      ],
      "source": [
        "from google.colab import files\n",
        "uploaded = files.upload()\n",
        "for fn in uploaded.keys():\n",
        "  print('User uploaded file \"{name}\"'.format(name=fn))"
      ]
    },
    {
      "cell_type": "code",
      "execution_count": 43,
      "metadata": {
        "id": "IvMO1Oh6XG9z"
      },
      "outputs": [],
      "source": [
        "import json\n",
        "train_data= [json.loads(line) for line in open('./train.json', encoding=\"utf-8\")]\n",
        "valid_data= [json.loads(line) for line in open('./valid.json', encoding=\"utf-8\")]\n",
        "test_data = [json.loads(line) for line in open('./test.json', encoding=\"utf-8\")]\n"
      ]
    },
    {
      "cell_type": "markdown",
      "metadata": {
        "id": "wnSNvGyJRQ1D"
      },
      "source": [
        "train: 29000\n",
        "\n",
        "valid: 1014\n",
        "\n",
        "test: 1000"
      ]
    },
    {
      "cell_type": "code",
      "execution_count": 44,
      "metadata": {
        "colab": {
          "base_uri": "https://localhost:8080/"
        },
        "id": "QlTI1FJDZRHv",
        "outputId": "8dd2e02c-d9fb-45dd-af08-e7ef7a2b0a53"
      },
      "outputs": [
        {
          "output_type": "stream",
          "name": "stdout",
          "text": [
            "29000\n",
            "1014\n",
            "1000\n"
          ]
        }
      ],
      "source": [
        "print(len(train_data))\n",
        "print(len(valid_data))\n",
        "print(len(test_data))"
      ]
    },
    {
      "cell_type": "code",
      "execution_count": 45,
      "metadata": {
        "colab": {
          "base_uri": "https://localhost:8080/"
        },
        "id": "N2Hnbq8yaAVa",
        "outputId": "5792ab12-2b56-496c-c197-3ed17b4fde6d"
      },
      "outputs": [
        {
          "output_type": "stream",
          "name": "stdout",
          "text": [
            "<class 'dict'>\n",
            "{'src': ['several', 'men', 'in', 'hard', 'hats', 'are', 'operating', 'a', 'giant', 'pulley', 'system', '.'], 'trg': ['mehrere', 'männer', 'mit', 'schutzhelmen', 'bedienen', 'ein', 'antriebsradsystem', '.']}\n",
            "several men in hard hats are operating a giant pulley system .\n"
          ]
        }
      ],
      "source": [
        "print(type(train_data[0]))\n",
        "print(train_data[1])\n",
        "print(' '.join(train_data[1]['src']))"
      ]
    },
    {
      "cell_type": "code",
      "execution_count": 46,
      "metadata": {
        "id": "zgfEKv4y3cJv"
      },
      "outputs": [],
      "source": [
        "datasets=[train_data, valid_data, test_data]\n",
        "import string\n",
        "\n",
        "for dataset in datasets:\n",
        "  for i in dataset:\n",
        "    i['src']=' '.join(i['src'])\n",
        "    i['trg']=' '.join(i['trg'])\n",
        "\n"
      ]
    },
    {
      "cell_type": "code",
      "execution_count": 47,
      "metadata": {
        "colab": {
          "base_uri": "https://localhost:8080/"
        },
        "id": "pptMvv_E-6Y4",
        "outputId": "37a554dd-f139-4e7b-b6e9-ad690f248dab"
      },
      "outputs": [
        {
          "output_type": "stream",
          "name": "stdout",
          "text": [
            "{'src': 'toddler boy in a red hat holding on to some railings .', 'trg': 'männliches kleinkind in einem roten hut , das sich an einem geländer festhält .'}\n",
            "{'src': 'a happy woman is preparing a refreshment at a coffee shop .', 'trg': 'eine glückliche frau bereitet in einem coffee - shop eine erfrischung zu .'}\n"
          ]
        }
      ],
      "source": [
        "print(train_data[100])\n",
        "print(test_data[100])"
      ]
    },
    {
      "cell_type": "markdown",
      "metadata": {
        "id": "y4ecf6aFaAlA"
      },
      "source": [
        "##Create Vocabulary"
      ]
    },
    {
      "cell_type": "code",
      "execution_count": 48,
      "metadata": {
        "id": "8_YKJgrA_YUX"
      },
      "outputs": [],
      "source": [
        "from collections import Counter\n",
        "from torchtext.vocab import vocab\n",
        "\n",
        "counter_de = Counter()\n",
        "counter_en = Counter()\n",
        "for i in train_data:\n",
        "  counter_en.update((tokenizer_en(i['src'])))\n",
        "  counter_de.update((tokenizer_de(i['trg'])))\n",
        "vocab_de = vocab(counter_de, min_freq=1, specials=(\"<unk>\", '<BOS>', '<EOS>', '<PAD>'))\n",
        "vocab_en = vocab(counter_en, min_freq=1, specials=(\"<unk>\", '<BOS>', '<EOS>', '<PAD>'))\n",
        "vocab_de.set_default_index(vocab_de[\"<unk>\"])\n",
        "vocab_en.set_default_index(vocab_en[\"<unk>\"])"
      ]
    },
    {
      "cell_type": "code",
      "execution_count": 49,
      "metadata": {
        "colab": {
          "base_uri": "https://localhost:8080/"
        },
        "id": "h_kPynUIFpwj",
        "outputId": "f29d4ce4-39a9-430b-c4af-6cc3e047d1b8"
      },
      "outputs": [
        {
          "output_type": "execute_result",
          "data": {
            "text/plain": [
              "0"
            ]
          },
          "metadata": {},
          "execution_count": 49
        }
      ],
      "source": [
        "vocab_en.get_default_index()"
      ]
    },
    {
      "cell_type": "code",
      "execution_count": 50,
      "metadata": {
        "colab": {
          "base_uri": "https://localhost:8080/"
        },
        "id": "xaO2BFZpFtf9",
        "outputId": "d861fd55-3836-4a2f-8b36-a40f342b8d5c"
      },
      "outputs": [
        {
          "output_type": "execute_result",
          "data": {
            "text/plain": [
              "0"
            ]
          },
          "metadata": {},
          "execution_count": 50
        }
      ],
      "source": [
        "vocab_de.get_default_index()"
      ]
    },
    {
      "cell_type": "code",
      "execution_count": 51,
      "metadata": {
        "colab": {
          "base_uri": "https://localhost:8080/"
        },
        "id": "PiSZlgV2cD0V",
        "outputId": "2b1d6573-4401-4ce7-dae6-32162d21c401"
      },
      "outputs": [
        {
          "output_type": "stream",
          "name": "stdout",
          "text": [
            "The length of the new vocab is 17981\n",
            "The index of '<BOS>' is 1\n",
            "The token at index 2 is <EOS>\n",
            "The token at index 3 is <PAD>\n",
            "The token at index 100 is orangefarbenen\n"
          ]
        }
      ],
      "source": [
        "print(\"The length of the new vocab is\", len(vocab_de))\n",
        "new_stoi = vocab_de.get_stoi()\n",
        "print(\"The index of '<BOS>' is\", new_stoi['<BOS>'])\n",
        "new_itos = vocab_de.get_itos()\n",
        "print(\"The token at index 2 is\", new_itos[2])\n",
        "print(\"The token at index 3 is\", new_itos[3])\n",
        "print(\"The token at index 100 is\", new_itos[100])"
      ]
    },
    {
      "cell_type": "code",
      "execution_count": 52,
      "metadata": {
        "colab": {
          "base_uri": "https://localhost:8080/"
        },
        "id": "PbKIV0MjcOGW",
        "outputId": "907c4dd7-99e5-46f6-ba67-f0e039e43639"
      },
      "outputs": [
        {
          "output_type": "stream",
          "name": "stdout",
          "text": [
            "The length of the new vocab is 9793\n",
            "The index of '<BOS>' is 1\n",
            "The token at index 2 is <BOS>\n",
            "The token at index 3 is <PAD>\n",
            "The token at index 100 is women\n"
          ]
        }
      ],
      "source": [
        "print(\"The length of the new vocab is\", len(vocab_en))\n",
        "new_stoi2 = vocab_en.get_stoi()\n",
        "print(\"The index of '<BOS>' is\", new_stoi2['<BOS>'])\n",
        "new_itos2 = vocab_en.get_itos()\n",
        "print(\"The token at index 2 is\", new_itos2[1])\n",
        "print(\"The token at index 3 is\", new_itos2[3])\n",
        "print(\"The token at index 100 is\", new_itos2[100])"
      ]
    },
    {
      "cell_type": "code",
      "execution_count": 52,
      "metadata": {
        "id": "W-8oKqi8RJCK"
      },
      "outputs": [],
      "source": []
    },
    {
      "cell_type": "code",
      "execution_count": 52,
      "metadata": {
        "id": "mrGsGN-1duuf"
      },
      "outputs": [],
      "source": []
    },
    {
      "cell_type": "markdown",
      "metadata": {
        "id": "3k6zuvncpmqz"
      },
      "source": [
        "# 2. Data Loader\n"
      ]
    },
    {
      "cell_type": "code",
      "execution_count": 53,
      "metadata": {
        "id": "gm4rpNH7eq6w"
      },
      "outputs": [],
      "source": [
        "trg_transform = lambda x: [vocab_de['<BOS>']] + [vocab_de[token] for token in tokenizer_de(x)] + [vocab_de['<EOS>']]\n",
        "src_transform = lambda x: [vocab_en['<BOS>']] + [vocab_en[token] for token in tokenizer_en(x)] + [vocab_en['<EOS>']]"
      ]
    },
    {
      "cell_type": "code",
      "execution_count": 54,
      "metadata": {
        "id": "5LmxzMV2jK3-"
      },
      "outputs": [],
      "source": [
        "# trg_transform = lambda x: [vocab_de['<BOS>']] + [vocab_de[token] for token in tokenizer(x)] + [vocab_de['<EOS>']]\n",
        "# src_transform = lambda x: [vocab_en['<BOS>']] + [vocab_en[token] for token in x] + [vocab_en['<EOS>']]"
      ]
    },
    {
      "cell_type": "code",
      "execution_count": 55,
      "metadata": {
        "id": "P9h6kStKdq8u"
      },
      "outputs": [],
      "source": [
        "from torch.utils.data import DataLoader\n",
        "from torch.nn.utils.rnn import pad_sequence\n",
        "\n",
        "def collate_batch(batch):\n",
        "   src_list, trg_list = [], []\n",
        "   for i in batch:\n",
        "\n",
        "        src_text = torch.tensor(src_transform(i['src']))\n",
        "        src_list.append(src_text)\n",
        "        trg_text = torch.tensor(trg_transform(i['trg']))\n",
        "        trg_list.append(trg_text)\n",
        "   return pad_sequence(src_list, padding_value=3.0).to(device), pad_sequence(trg_list, padding_value=3.0).to(device)\n",
        "\n",
        "\n",
        "\n",
        "train_dataloader = DataLoader(train_data, batch_size=32, shuffle=True, collate_fn=collate_batch)"
      ]
    },
    {
      "cell_type": "code",
      "execution_count": 56,
      "metadata": {
        "colab": {
          "base_uri": "https://localhost:8080/"
        },
        "id": "BSTrOVFlgKLL",
        "outputId": "4bc9e72f-f8c2-4e00-a7f5-7142b064801e"
      },
      "outputs": [
        {
          "output_type": "stream",
          "name": "stdout",
          "text": [
            "[1, 21, 25, 26, 27, 28, 21, 29, 30, 14, 2]\n"
          ]
        },
        {
          "output_type": "execute_result",
          "data": {
            "text/plain": [
              "[1, 22, 24, 25, 26, 12, 22, 27, 28, 29, 17, 2]"
            ]
          },
          "metadata": {},
          "execution_count": 56
        }
      ],
      "source": [
        "print(src_transform(train_data[2]['src']))\n",
        "trg_transform(train_data[2]['trg'])"
      ]
    },
    {
      "cell_type": "code",
      "execution_count": 57,
      "metadata": {
        "colab": {
          "base_uri": "https://localhost:8080/"
        },
        "id": "UExzdv2jobMc",
        "outputId": "c7521f52-328f-461c-9a90-7f42833b61b2"
      },
      "outputs": [
        {
          "output_type": "execute_result",
          "data": {
            "text/plain": [
              "['<BOS>',\n",
              " 'a',\n",
              " 'little',\n",
              " 'girl',\n",
              " 'climbing',\n",
              " 'into',\n",
              " 'a',\n",
              " 'wooden',\n",
              " 'playhouse',\n",
              " '.',\n",
              " '<EOS>']"
            ]
          },
          "metadata": {},
          "execution_count": 57
        }
      ],
      "source": [
        "a=[1, 21, 25, 26, 27, 28, 21, 29, 30, 14, 2]\n",
        "[new_itos2[x] for x in a]"
      ]
    },
    {
      "cell_type": "code",
      "execution_count": 58,
      "metadata": {
        "colab": {
          "base_uri": "https://localhost:8080/"
        },
        "id": "d8576S-megSW",
        "outputId": "c8115ae5-6c1c-4c1d-9998-3540be7b89d7"
      },
      "outputs": [
        {
          "output_type": "stream",
          "name": "stdout",
          "text": [
            "tensor([[   1,    1,    1,    1,    1,    1,    1,    1,    1,    1,    1,    1,\n",
            "            1,    1,    1,    1,    1,    1,    1,    1,    1,    1,    1,    1,\n",
            "            1,    1,    1,    1,    1,    1,    1,    1],\n",
            "        [  21,  208,   21,  208,   21,   21,   21,   21,   65, 7968,  660,   21,\n",
            "           21,   21,    4,  167,   21,   21,   41,   21,  120,   21,   21,   21,\n",
            "           21,  100,    4,   21,  373,   84,   21,   21],\n",
            "        [  63, 2770,  456,  537,  999,  527,   25,  250, 1275,  159,   34,   63,\n",
            "          250,   31,   70,   17,  103,   31,   84,  250,    9,   31,   63,   31,\n",
            "           31,   17,   79,   90, 2878,  413,  382, 4202],\n",
            "        [  92,   31,   25,  457,  136,  464,  241,   74,   74,  148,   21,   64,\n",
            "           74,   17,   17,   32,   64,   17,   16,   74,  231,  110,   92,  196,\n",
            "           17,  978,    9,   91, 2760,  587,   91, 1743],\n",
            "        [  57,    6,   26,  849, 4858,  861,   34,  266,  120,    9,   91,   21,\n",
            "           16,  104,   21,  542, 1078,   21,    9,  120,   21,   36,   21,    6,\n",
            "          208,  979,   67,   34,   21,  936,   34,  314],\n",
            "        [7897,   85,  228,  526,   17, 1063,  298,  110,  110,  242,  288,   90,\n",
            "          908,  213, 1231,  298,  432,  459,  242,    9,  643,   21,    5,  400,\n",
            "           96,    9,   68,   67, 8165,   41,  242,   40],\n",
            "        [7898,   21,  377, 2054,  208,   40,   21, 1276,  350,  844,  384,  181,\n",
            "           21,   21,  475, 4882,  500,  155,   64,  110,   36,  513,   31, 1155,\n",
            "          181,   17,   21,  377,   14, 5011,   64,   41],\n",
            "        [  91,    7,   21,   34, 2477,   21,   45,   21, 1276,   17,   41,  110,\n",
            "          595,   44,    9,   17,   34,   92,   21,   40,  102,  115,    9,   92,\n",
            "           34,   41,  489,   21,    2,  302,   21,   88],\n",
            "        [ 110,   33, 1780,  200,   92,  464,   92,   65,   41,   21,  248,   61,\n",
            "           74, 9496, 2626,   86,   85,  104,  887,   21, 1688,   48,  215, 2377,\n",
            "          176,   73,   17, 1477,    3,   21,  169,   74],\n",
            "        [  36,   92,   74,   21,   41,   14,  180,  169, 1277,  556,   14,   48,\n",
            "          758,   92, 1899,  344,   21,   34,   14,  248,   14, 1270,   40,   36,\n",
            "           40,   74,  111,   74,    3, 2350,   91,   21],\n",
            "        [  21,  885,   45,   45, 1772,    2, 1633, 3145,   74,  450,    2,  242,\n",
            "           14,   35,   17,   92,  382,  576,    2,  231,    2,  116,   21,   41,\n",
            "         1737,   21,   74,  274,    3,   14,   17,  300],\n",
            "        [ 115,   34,  331,  227,   34,    3,   48,   14,  443,   17,    3,   21,\n",
            "            2,  395,   21,  259, 1271,   28,    3,   41,    3,  134,  461,  519,\n",
            "         4840, 9604,   21,   14,    3,    2,  300,  457],\n",
            "        [  17, 1239,   14,   48, 1207,    3,   35,    2,   14,  111,    3, 2992,\n",
            "            3, 1882, 3945,   32,   92,   21,    3,   32,    3,   14,   17,   74,\n",
            "           17,   14, 1372,    2,    3,    3,   14,  490],\n",
            "        [  41,   14,    2,   49,  132,    3,   17,    3,    2,   74,    3,   14,\n",
            "            3,    6, 3787, 1315,   34,  515,    3, 2033,    3,    2,   21,   21,\n",
            "         4429,    2,  374,    3,    3,    3,    2, 2213],\n",
            "        [ 252,    2,    3,  120,   74,    3,  111,    3,    3,   21,    3,    2,\n",
            "            3,  629, 1120, 1316,  110,   36,    3,   14,    3,    3,  836,  161,\n",
            "           14,    3,   14,    3,    3,    3,    3,   40],\n",
            "        [  36,    3,    3,    9,  435,    3,   74,    3,    3,  374,    3,    3,\n",
            "            3,    6,   14,   64,   36,   21,    3,    2,    3,    3,  347,   62,\n",
            "            2,    3,    2,    3,    3,    3,    3,   41],\n",
            "        [  21,    3,    3,  176,  147,    3,   21,    3,    3,   14,    3,    3,\n",
            "            3, 3789,    2,   49,   21,  461,    3,    3,    3,    3,   14,   14,\n",
            "            3,    3,    3,    3,    3,    3,    3, 1589],\n",
            "        [ 594,    3,    3,   40,   17,    3,   42,    3,    3,    2,    3,    3,\n",
            "            3,   92,    3,  344,  668, 1671,    3,    3,    3,    3,    2,    2,\n",
            "            3,    3,    3,    3,    3,    3,    3,   74],\n",
            "        [ 595,    3,    3, 1178, 1862,    3,   14,    3,    3,    3,    3,    3,\n",
            "            3, 6465,    3,   14,   64,   64,    3,    3,    3,    3,    3,    3,\n",
            "            3,    3,    3,    3,    3,    3,    3,  373],\n",
            "        [   2,    3,    3,   36,   17,    3,    2,    3,    3,    3,    3,    3,\n",
            "            3,   14,    3,    2,   21, 1420,    3,    3,    3,    3,    3,    3,\n",
            "            3,    3,    3,    3,    3,    3,    3, 1596],\n",
            "        [   3,    3,    3,   21,  111,    3,    3,    3,    3,    3,    3,    3,\n",
            "            3,    2,    3,    3,   31, 2381,    3,    3,    3,    3,    3,    3,\n",
            "            3,    3,    3,    3,    3,    3,    3,   14],\n",
            "        [   3,    3,    3,  573,   74,    3,    3,    3,    3,    3,    3,    3,\n",
            "            3,    3,    3,    3,   14,   14,    3,    3,    3,    3,    3,    3,\n",
            "            3,    3,    3,    3,    3,    3,    3,    2],\n",
            "        [   3,    3,    3,   14,   21,    3,    3,    3,    3,    3,    3,    3,\n",
            "            3,    3,    3,    3,    2,    2,    3,    3,    3,    3,    3,    3,\n",
            "            3,    3,    3,    3,    3,    3,    3,    3],\n",
            "        [   3,    3,    3,    2,  140,    3,    3,    3,    3,    3,    3,    3,\n",
            "            3,    3,    3,    3,    3,    3,    3,    3,    3,    3,    3,    3,\n",
            "            3,    3,    3,    3,    3,    3,    3,    3],\n",
            "        [   3,    3,    3,    3,   17,    3,    3,    3,    3,    3,    3,    3,\n",
            "            3,    3,    3,    3,    3,    3,    3,    3,    3,    3,    3,    3,\n",
            "            3,    3,    3,    3,    3,    3,    3,    3],\n",
            "        [   3,    3,    3,    3,   41,    3,    3,    3,    3,    3,    3,    3,\n",
            "            3,    3,    3,    3,    3,    3,    3,    3,    3,    3,    3,    3,\n",
            "            3,    3,    3,    3,    3,    3,    3,    3],\n",
            "        [   3,    3,    3,    3,  314,    3,    3,    3,    3,    3,    3,    3,\n",
            "            3,    3,    3,    3,    3,    3,    3,    3,    3,    3,    3,    3,\n",
            "            3,    3,    3,    3,    3,    3,    3,    3],\n",
            "        [   3,    3,    3,    3,   14,    3,    3,    3,    3,    3,    3,    3,\n",
            "            3,    3,    3,    3,    3,    3,    3,    3,    3,    3,    3,    3,\n",
            "            3,    3,    3,    3,    3,    3,    3,    3],\n",
            "        [   3,    3,    3,    3,    2,    3,    3,    3,    3,    3,    3,    3,\n",
            "            3,    3,    3,    3,    3,    3,    3,    3,    3,    3,    3,    3,\n",
            "            3,    3,    3,    3,    3,    3,    3,    3]], device='cuda:0')\n",
            "torch.Size([25, 32])\n",
            "torch.Size([40, 32])\n"
          ]
        }
      ],
      "source": [
        "#print(next(iter(train_dataloader)))\n",
        "print(next(iter(train_dataloader))[0])\n",
        "print(next(iter(train_dataloader))[0].size())\n",
        "print(next(iter(train_dataloader))[1].size())"
      ]
    },
    {
      "cell_type": "markdown",
      "metadata": {
        "id": "vSJ2YS4upmq5"
      },
      "source": [
        "# 3. Model"
      ]
    },
    {
      "cell_type": "code",
      "execution_count": 59,
      "metadata": {
        "id": "qTtTusqWpmq5"
      },
      "outputs": [],
      "source": [
        "class Encoder(nn.Module):\n",
        "    def __init__(self, input_dim, emb_dim, enc_hid_dim, dec_hid_dim, dropout):\n",
        "        super().__init__()\n",
        "\n",
        "        self.embedding = nn.Embedding(input_dim, emb_dim)\n",
        "        self.dropout = nn.Dropout(dropout)\n",
        "        self.rnn = nn.GRU(emb_dim, enc_hid_dim, bidirectional = True)\n",
        "        self.fc = nn.Linear(enc_hid_dim * 2, dec_hid_dim)\n",
        "\n",
        "\n",
        "    def forward(self, src):\n",
        "        #TO-DO: src -> embbending -> dropout -> rnn -> outputs, hidden\n",
        "        embedded = self.dropout(self.embedding(src))\n",
        "        outputs, hidden = self.rnn(embedded)\n",
        "\n",
        "        hidden = torch.tanh(self.fc(torch.cat((hidden[-2,:,:], hidden[-1,:,:]), dim = 1)))\n",
        "\n",
        "        return outputs, hidden"
      ]
    },
    {
      "cell_type": "code",
      "execution_count": 60,
      "metadata": {
        "id": "xj7NWyZ6pmq5"
      },
      "outputs": [],
      "source": [
        "class Attention(nn.Module):\n",
        "    def __init__(self, enc_hid_dim, dec_hid_dim):\n",
        "        super().__init__()\n",
        "\n",
        "        self.attn = nn.Linear((enc_hid_dim * 2) + dec_hid_dim, dec_hid_dim)\n",
        "        self.v = nn.Linear(dec_hid_dim, 1, bias = False)\n",
        "\n",
        "    def forward(self, hidden, encoder_outputs):\n",
        "        batch_size = encoder_outputs.shape[1]\n",
        "        src_len = encoder_outputs.shape[0]\n",
        "        hidden = hidden.unsqueeze(1).repeat(1, src_len, 1)\n",
        "        encoder_outputs = encoder_outputs.permute(1, 0, 2)\n",
        "\n",
        "        energy = torch.tanh(self.attn(torch.cat((hidden, encoder_outputs), dim = 2)))\n",
        "        #TO-DO: tanh⁡(𝑊_𝑎 [𝑠_(𝑖−1);ℎ_𝑗]) -> score\n",
        "        attention = self.v(energy)\n",
        "\n",
        "        attention = attention.squeeze(2)\n",
        "\n",
        "        ##TO-DO: softmax\n",
        "        return F.softmax(attention, dim=1)"
      ]
    },
    {
      "cell_type": "code",
      "execution_count": 61,
      "metadata": {
        "id": "AJ8qE3N3pmq5"
      },
      "outputs": [],
      "source": [
        "class Decoder(nn.Module):\n",
        "    def __init__(self, output_dim, emb_dim, enc_hid_dim, dec_hid_dim, dropout, attention):\n",
        "        super().__init__()\n",
        "\n",
        "        self.output_dim = output_dim\n",
        "        self.attention = attention\n",
        "        self.embedding = nn.Embedding(output_dim, emb_dim)\n",
        "        self.rnn = nn.GRU((enc_hid_dim * 2) + emb_dim, dec_hid_dim)\n",
        "        self.fc_out = nn.Linear((enc_hid_dim * 2) + dec_hid_dim + emb_dim, output_dim)\n",
        "        self.dropout = nn.Dropout(dropout)\n",
        "\n",
        "    def forward(self, input, hidden, encoder_outputs):\n",
        "        input = input.unsqueeze(0)\n",
        "\n",
        "        embedded = self.dropout(self.embedding(input))\n",
        "        a = self.attention(hidden, encoder_outputs)\n",
        "\n",
        "        a = a.unsqueeze(1)\n",
        "        encoder_outputs = encoder_outputs.permute(1, 0, 2)\n",
        "\n",
        "        weighted = torch.bmm(a, encoder_outputs)\n",
        "\n",
        "        weighted = weighted.permute(1, 0, 2)\n",
        "        #TO-DO: embedded + attention -> RNN -> output, hidden\n",
        "\n",
        "        rnn_input = torch.cat((embedded,weighted), dim=2)\n",
        "        output,hidden = self.rnn(rnn_input, hidden.unsqueeze(0))\n",
        "\n",
        "        assert (output == hidden).all()\n",
        "\n",
        "        embedded = embedded.squeeze(0)\n",
        "        output = output.squeeze(0)\n",
        "        weighted = weighted.squeeze(0)\n",
        "\n",
        "        prediction = self.fc_out(torch.cat((output, weighted, embedded), dim = 1))\n",
        "\n",
        "        return prediction, hidden.squeeze(0)"
      ]
    },
    {
      "cell_type": "code",
      "execution_count": 62,
      "metadata": {
        "id": "_P0UoF6_pmq6"
      },
      "outputs": [],
      "source": [
        "class Seq2Seq(nn.Module):\n",
        "    def __init__(self, encoder, decoder, device):\n",
        "        super().__init__()\n",
        "\n",
        "        self.encoder = encoder\n",
        "        self.decoder = decoder\n",
        "        self.device = device\n",
        "\n",
        "    def forward(self, src, trg, teacher_forcing_ratio = 0.5):\n",
        "        batch_size = src.shape[1]\n",
        "        trg_len = trg.shape[0]\n",
        "        trg_vocab_size = self.decoder.output_dim\n",
        "        outputs = torch.zeros(trg_len, batch_size, trg_vocab_size).to(self.device)\n",
        "\n",
        "        #TO-DO: src -> encoder_outputs, hidden\n",
        "        encoder_outputs, hidden = self.encoder(src)\n",
        "\n",
        "        input = trg[0,:]\n",
        "\n",
        "        for t in range(1, trg_len):\n",
        "            #TO-DO: input, hidden, encoder_outputs -> output, hidden\n",
        "            output, hidden = self.decoder(input, hidden, encoder_outputs)\n",
        "\n",
        "            outputs[t] = output\n",
        "\n",
        "            teacher_force = random.random() < teacher_forcing_ratio\n",
        "\n",
        "            top1 = output.argmax(1)\n",
        "\n",
        "            input = trg[t] if teacher_force else top1\n",
        "\n",
        "        return outputs\n"
      ]
    },
    {
      "cell_type": "markdown",
      "metadata": {
        "id": "X_rUqsiNpmq6"
      },
      "source": [
        "# 4. Initialize"
      ]
    },
    {
      "cell_type": "code",
      "execution_count": 63,
      "metadata": {
        "id": "gsxtO1ILpmq7"
      },
      "outputs": [],
      "source": [
        "INPUT_DIM = len(vocab_en)\n",
        "OUTPUT_DIM = len(vocab_de)\n",
        "ENC_EMB_DIM = 128\n",
        "DEC_EMB_DIM = 128\n",
        "ENC_HID_DIM = 256\n",
        "DEC_HID_DIM = 256\n",
        "ENC_DROPOUT = 0.5\n",
        "DEC_DROPOUT = 0.5\n",
        "\n",
        "attn = Attention(ENC_HID_DIM, DEC_HID_DIM)\n",
        "enc = Encoder(INPUT_DIM, ENC_EMB_DIM, ENC_HID_DIM, DEC_HID_DIM, ENC_DROPOUT)\n",
        "dec = Decoder(OUTPUT_DIM, DEC_EMB_DIM, ENC_HID_DIM, DEC_HID_DIM, DEC_DROPOUT, attn)\n",
        "\n",
        "model = Seq2Seq(enc, dec, device).to(device)\n",
        "\n",
        "optimizer = optim.Adam(model.parameters())\n",
        "\n",
        "TRG_PAD_IDX = new_stoi2['<PAD>']\n",
        "\n",
        "criterion = nn.CrossEntropyLoss(ignore_index = TRG_PAD_IDX)"
      ]
    },
    {
      "cell_type": "markdown",
      "metadata": {
        "id": "40cvwtO9pmq7"
      },
      "source": [
        "# 5. Train"
      ]
    },
    {
      "cell_type": "code",
      "execution_count": 64,
      "metadata": {
        "id": "QI2S1AqPpmq7"
      },
      "outputs": [],
      "source": [
        "def train(model, iterator, optimizer, criterion, clip):\n",
        "\n",
        "    model.train()\n",
        "\n",
        "    epoch_loss = 0\n",
        "\n",
        "    for src, trg in iterator:\n",
        "\n",
        "        optimizer.zero_grad()\n",
        "\n",
        "        output = model(src, trg)\n",
        "\n",
        "        output_dim = output.shape[-1]\n",
        "\n",
        "        output = output[1:].view(-1, output_dim)\n",
        "        trg = trg[1:].view(-1)\n",
        "\n",
        "\n",
        "        loss = criterion(output, trg)\n",
        "        loss.backward()\n",
        "\n",
        "        torch.nn.utils.clip_grad_norm_(model.parameters(), clip)\n",
        "\n",
        "        optimizer.step()\n",
        "        epoch_loss += loss.item()\n",
        "\n",
        "    return epoch_loss / len(iterator)"
      ]
    },
    {
      "cell_type": "code",
      "execution_count": 65,
      "metadata": {
        "id": "ju06rIfbpmq7"
      },
      "outputs": [],
      "source": [
        "def evaluate(model, iterator, criterion):\n",
        "\n",
        "    model.eval()\n",
        "\n",
        "    epoch_loss = 0\n",
        "\n",
        "    with torch.no_grad():\n",
        "\n",
        "        for src, trg in iterator:\n",
        "            output = model(src, trg, 0) #0 - teacher forcing 제거\n",
        "\n",
        "            output_dim = output.shape[-1]\n",
        "\n",
        "            output = output[1:].view(-1, output_dim)\n",
        "            trg = trg[1:].view(-1)\n",
        "\n",
        "            loss = criterion(output, trg)\n",
        "\n",
        "            epoch_loss += loss.item()\n",
        "\n",
        "    return epoch_loss / len(iterator)"
      ]
    },
    {
      "cell_type": "code",
      "execution_count": 66,
      "metadata": {
        "id": "ijvHN1hdpmq8"
      },
      "outputs": [],
      "source": [
        "def epoch_time(start_time, end_time):\n",
        "    elapsed_time = end_time - start_time\n",
        "    elapsed_mins = int(elapsed_time / 60)\n",
        "    elapsed_secs = int(elapsed_time - (elapsed_mins * 60))\n",
        "    return elapsed_mins, elapsed_secs"
      ]
    },
    {
      "cell_type": "code",
      "execution_count": 67,
      "metadata": {
        "id": "DzF9p7KOj-2y"
      },
      "outputs": [],
      "source": [
        "train_iterator = DataLoader(train_data, batch_size=32, shuffle=True, collate_fn=collate_batch)\n",
        "valid_iterator = DataLoader(valid_data, batch_size=32, shuffle=True, collate_fn=collate_batch)\n",
        "test_iterator  = DataLoader(test_data, batch_size=32, shuffle=True, collate_fn=collate_batch)"
      ]
    },
    {
      "cell_type": "code",
      "execution_count": 68,
      "metadata": {
        "colab": {
          "base_uri": "https://localhost:8080/"
        },
        "id": "B_kScK6Jpmq8",
        "outputId": "a9940f59-8240-4ea3-ce77-805d432215ec"
      },
      "outputs": [
        {
          "output_type": "stream",
          "name": "stdout",
          "text": [
            "Epoch: 01 | Time: 2m 23s\n",
            "\tTrain Loss: 4.393\n",
            "\t Val. Loss: 3.995\n",
            "Epoch: 02 | Time: 2m 18s\n",
            "\tTrain Loss: 3.250\n",
            "\t Val. Loss: 3.914\n",
            "Epoch: 03 | Time: 2m 19s\n",
            "\tTrain Loss: 2.779\n",
            "\t Val. Loss: 3.797\n",
            "Epoch: 04 | Time: 2m 18s\n",
            "\tTrain Loss: 2.462\n",
            "\t Val. Loss: 3.849\n",
            "Epoch: 05 | Time: 2m 20s\n",
            "\tTrain Loss: 2.236\n",
            "\t Val. Loss: 3.875\n"
          ]
        }
      ],
      "source": [
        "N_EPOCHS = 5\n",
        "CLIP = 1\n",
        "\n",
        "best_valid_loss = float('inf')\n",
        "\n",
        "for epoch in range(N_EPOCHS):\n",
        "\n",
        "    start_time = time.time()\n",
        "\n",
        "    train_loss = train(model, train_iterator, optimizer, criterion, CLIP)\n",
        "    valid_loss = evaluate(model, valid_iterator, criterion)\n",
        "\n",
        "    end_time = time.time()\n",
        "\n",
        "    epoch_mins, epoch_secs = epoch_time(start_time, end_time)\n",
        "\n",
        "    if valid_loss < best_valid_loss:\n",
        "        best_valid_loss = valid_loss\n",
        "        torch.save(model.state_dict(), 'best_model.pt')\n",
        "\n",
        "    print(f'Epoch: {epoch+1:02} | Time: {epoch_mins}m {epoch_secs}s')\n",
        "    print(f'\\tTrain Loss: {train_loss:.3f}')\n",
        "    print(f'\\t Val. Loss: {valid_loss:.3f}')"
      ]
    },
    {
      "cell_type": "markdown",
      "metadata": {
        "id": "T66_tWjhpmq9"
      },
      "source": [
        "#6. Test"
      ]
    },
    {
      "cell_type": "code",
      "execution_count": 69,
      "metadata": {
        "id": "p0eFuwsTpmq9"
      },
      "outputs": [],
      "source": [
        "def translate_sentence(sentence, vocab_src, vocab_trg, new_itos, model, device, max_len = 50):\n",
        "\n",
        "    model.eval()\n",
        "\n",
        "    if isinstance(sentence, str):\n",
        "        nlp = spacy.load('en_core_web_sm')\n",
        "        tokens = [token.text.lower() for token in nlp(sentence)]\n",
        "    else:\n",
        "        tokens = [token.lower() for token in sentence]\n",
        "\n",
        "    tokens = ['<BOS>'] + tokens + ['<EOS>']\n",
        "\n",
        "    src_indexes = [vocab_src[token] for token in tokens]\n",
        "\n",
        "    src_tensor = torch.LongTensor(src_indexes).unsqueeze(1).to(device)\n",
        "\n",
        "    src_len = torch.LongTensor([len(src_indexes)])\n",
        "\n",
        "    with torch.no_grad():\n",
        "        encoder_outputs, hidden = model.encoder(src_tensor)\n",
        "\n",
        "    trg_indexes = [vocab_trg['<BOS>']]\n",
        "\n",
        "    for i in range(max_len):\n",
        "\n",
        "        trg_tensor = torch.LongTensor([trg_indexes[-1]]).to(device)\n",
        "\n",
        "        with torch.no_grad():\n",
        "            output, hidden = model.decoder(trg_tensor, hidden, encoder_outputs)\n",
        "\n",
        "\n",
        "        pred_token = output.argmax(1).item()\n",
        "\n",
        "        trg_indexes.append(pred_token)\n",
        "\n",
        "        if pred_token == vocab_trg['<EOS>']:\n",
        "            break\n",
        "\n",
        "    trg_tokens = [new_itos[i] for i in trg_indexes]\n",
        "\n",
        "    return trg_tokens[1:]"
      ]
    },
    {
      "cell_type": "code",
      "execution_count": 70,
      "metadata": {
        "colab": {
          "base_uri": "https://localhost:8080/"
        },
        "id": "o5g7Q95spmq9",
        "outputId": "99651c9b-8674-451f-ea40-05c153d84a61"
      },
      "outputs": [
        {
          "output_type": "stream",
          "name": "stdout",
          "text": [
            "src = a man in green holds a guitar while the other man observes his shirt .\n",
            "trg = ein mann in grün hält eine gitarre , während der andere mann sein hemd ansieht .\n"
          ]
        }
      ],
      "source": [
        "example_idx = 5\n",
        "\n",
        "src = (train_data[example_idx])['src']\n",
        "trg = (train_data[example_idx])['trg']\n",
        "\n",
        "print(f'src = {src}')\n",
        "print(f'trg = {trg}')"
      ]
    },
    {
      "cell_type": "code",
      "execution_count": 71,
      "metadata": {
        "id": "iGV5nj4jpmq9"
      },
      "outputs": [],
      "source": [
        "src = 'Man with green shirt is playing a guitar.'\n",
        "#tar = 'Der Mann mit grünem Hemd spielt eine Gitarre."
      ]
    },
    {
      "cell_type": "code",
      "execution_count": 72,
      "metadata": {
        "colab": {
          "base_uri": "https://localhost:8080/"
        },
        "id": "N01hoav3pmq9",
        "outputId": "7b14364b-6de3-4b76-bb87-8ff910d312a1"
      },
      "outputs": [
        {
          "output_type": "stream",
          "name": "stdout",
          "text": [
            "predicted trg = ['ein', 'mann', 'mit', 'grünem', 'hemd', 'spielt', 'gitarre', '.', '<EOS>']\n"
          ]
        }
      ],
      "source": [
        "translation = translate_sentence(src, vocab_en, vocab_de, new_itos, model, device)\n",
        "\n",
        "print(f'predicted trg = {translation}')"
      ]
    },
    {
      "cell_type": "markdown",
      "metadata": {
        "id": "YfU0vlb1132y"
      },
      "source": [
        "![image.png](data:image/png;base64,iVBORw0KGgoAAAANSUhEUgAAA4IAAAFvCAYAAAAfTHUUAAAgAElEQVR4nOzdeVxUVf8H8M84hhtjikhOqSg14YYoiig8iqai5G6L9jym5eOemqaZu4G4p5Wallo/dy3TTFNT3MAFVxAxFFEUIUAELAdBEDi/P3jmNsDMMOAMA87n/XrNH3DvnHvm3HPvOd977j1XJoQQICIiIiIiogrN6fZEo9etZMZ8EBERERERUTnEQJCIiIiIiMjKMBAkIiIiIiKyMgwEiYiIiIiIrAwDQSIiIiIiIivDQJCIiIiIiMjKMBAkIiIiIiKyMgwEiYiIiIiIrAwDQSIiIiIiIivDQJCIiIiIiMjKMBAkIiIiIiKyMgwEiYiIiIiIngN2cluj15UJIUThf8bExJg0Q0RERGXJycnJ4HK2c0REVJHpa+d2PTqHJWn7kJabXmwalUuaOBERUXlmbJDXqFEjM+eEiIjI9O7evat32Ts12+Odmu2NSoe3hhIREREREVkZBoJERERERERWhoEgERERERGRlWEgSEREREREZGUYCBIREREREVkZBoJERERERERWhoEgERERERGRlWEgSEREREREZGUYCBIREREREVkZBoJERERERERWhoEgERERERGRlWEgSEREREREZGUYCBIREREREVkZBoJERERERERWhoEgERERERGRlWEgSEREZhEdHY3x48cjIyPD0lkhIiKiQhgIEhGRWahUKjg7O+Pzzz9Hbm6upbNDREREWhgIEhGR2YwfPx4KhQLLli2DEMLS2SEiIqL/sXwgmJuN9L/Tjf5k67uorJ1Otq4V0hC0dDiGj9yJa6XNa1oQlowcjuE7Sp0CEZFVkclkmDZtGh48eIDvvvvO0tkp39KCsXT0CIzYWfo25trOERgxeimC00yYLyIiei5VtnQGkHYE/gOXIMSold3w2U9fo7dS61+56bj2kz9m/V8I0jL/+bet+0dY5j8YLWz/+Z/6QTSib7TJDyblhZLOTkR0cAhOxmZD2bIDOrs5wrbwOrlqpN6IRnRLnZEmERHpUKVKFcyfPx+ffPIJdu7cicGDB1s6S2UrNx3RJ3di58FziE0HYOuI9m8OxuDOqoLtjKaNcXmqM5n02DAEhVxGYrVG8G7XCSqlTdGVHkYj+oYt1Flm+SVERPQcsXwgqPHu1zg1wa3EX4vePgZj1yWiw6QfML2PCnbybKRF/4bFE7/E2A+z8cPOoVAVDugKSwzE7JH+CMq2g8pRgcSN32BJvYFY+t1kdLAr3c8hIqJ/VK9eHQsWLMCkSZNQp04ddO/e3dJZKhu5iTgweyiWnrVB634jMLiTElkXd2KN/whs2T0Ic4Z3QB3Nun/HIlVnItm49sM4TN4UDRtHFZQZP2LLivloP34z5r/jCB3hIBERUbHKTyBYGtkh+G1dLNBlLqb3V8FODgA2sGsyEHOnhcLXbz32nBuMz7wMNJO50dj8qT+Cag3E0i8no0NdAPG/YdrwJZi2SIVfl/UGY0EiomdXp04dLFy4EFOnTkXt2rXRtm1bS2fJ7NJPrsHSs8CAgB8xqeP/blFp2x7d26/B0Ek/Yr7/uX9G9nJTEaszjSWYvCkWbh9vwJx+KtgiHWHrxmHS6s+wwXkzxrVkKEhERCVXsQPBv1ORCAB16/wvCPyHrUP+/aMJaakAlIW/KckO/Q2bYgHv2cPyg0AAqN8bH43Yg5BVO3EkpjcGO5U8aykpKbC3tzfb+kREZWXYsGFISEgwaZpffvkltm3bZtI0y59sXAsPBjAA3p62BZbYtO6EbtV+xJYmg7B0aa/8C44PDuCzt5fiXIE1ExH401Fk13sf7/fT3Epqi9YfjEOvnZ/hx4OhGNGyfYlHBdlGERFR+QkE9/th+NU6xazkjGFLPoO3ZojOzhkt6gEhV28iNtcNjlrBYHR4CAAlWjjpDwIBIPZGCLLRAe3dCo77ObbuDCXWI/RGGgY7lWxMMCUlBRcuXIC9vT3atWtX7PoXLlxASkoK2rVrx4aWiMqdTZs2WToL1is9Gtf+AGwGt0cL7Que1VqgfVfgwKFQ3JzeHi1KkGRKSgouXrwIe3t7uLu7F7v+xYsXkZKSAnd3d7ZRRETPEcsHgi+2wdAVX0N76oDUc6vh/1M0vCd8jYGNtVe2gbKa1p9yFQZOGYgjn36D4RNTMfmD3mjjkIrL+9bjy59i4fje13ivieHNZ6kTAXjj5cKxXi07NAIQsm811if+L5hUR+OuET/J3t4e9vb2uHDhAgAYDAYvXLiACxcuMAgkInru2KCFayfg11+w89AgtNaa6Sz97FH8mAng6gZMG/1L/j913RqaqUY6gOYNCl8otYVdXQAIxpavbaBS5P83MaL4XBVuowwFgxcvXmQbRUT0nLJ8IGijRAv3gqN2aQ/sAURD+Zob3IqZP8a2/WR8u7U9ftuyE3u+HoMlf9WB6vXXMXLxdPRur2Pmz0L0vo5Ckz15leJ/gw6a4M9QMKgdBBozckhERBWLbedxmBMcivnLhmJE6AgMfrMO1MG/YcOvYYDnCCx5qwWkVubvEHzj/yOitRPIAQxPAGoDm+ImRNNBE/wZCga1g0BjRg6JiKhisWAgeA07R67AEV2LUvOvie4JGI7Luu4WVQ3DF9O8pUlcbB07YPDsDjA8Ibkt2nzwNb5+V4FGWv+1qW4DIBGp6QBe1FrwVxruAmjRcyhG9vlfoPrgN0TvDsl/LtEIhoJBBoFEVFFs3boV6enpJk2zVq1a1vEaCbkS3eb+CFWPQPxy8AB2rgdg64gBczcUfX3EgwTUAQoGglWqoAqAm6mFyz8daQ8AoD0Gjh2B1v9L51rWFhz9w7isGQoGGQQSET3/LBgINkKHUePxemm+WkWJgo/dpyFo6VRsitazfgE++GS9SgoiGzl5AwhE6LVsdNeaXTTxjxAkQoneKsPPGBZHVzDIIJCIKpJOnTrh5MmT6Nu3L2rVqmXp7FQ8cls4eg7AJM8BxaynQJ0mKqhqvfDP/+wc0aIecO5kKGKHqeCo+X92NELPAuj8evGvSDJAVzDIIJCIyDpYMBC0haO72z+N2jOm9Xqv8RifYWidVISs88fOQi+Ut/UaiMH1ArHzq/Xo7vYR3KoBSA/BzjXXgOaT4a169txpB4O3b99Gamoqg0AiqjAaNmwIT09PHDx4EP3790f16tUtnaUKKz32HAL3ByIoIhbaY3xK5+5o360TJq3ZUOhWTxV6fdAeGxavwZrfOmHJ/54zjP11A37JtMGANzsVujBactrBoHYbxSCQiOj5ZvFnBNMOTkO/RSFGru2Gz376Gr2LDNLZQNnczcBLIgAgDQk/6fi3TQuMnDMYIR/txMf9rqF3HyXuHg7ENXTAZ7MHFpiJ9Fm0a9cOarUaERERcHFxYRBIRBXKa6+9BrVajYMHD6Jfv3544YUXiv8SadG8FD4Wtp4DMGJYb7xsVw+O1VIR+yAJNw//gjUT1mCpxzhs9hsER62J0ex8JmFa8FAsXTYYQ88NgltuIA6cTYPj4K8woq1p3iHo7u4OtVqNq1evomXLlgwCiYisgMUDQbtuc3HIq/j1Iv7PF9N2619+bU1HjN1RujzYtPwIW/d447ejIUjMAOxGLMX0Lh3g+GLx3y2Jrl27omHDhlCpTDDMSERUxlq3bo2MjAwcOnQIvXr1glxuoitl1uCPzZi8KRqvj9+Mb97RvhdGCTvHFmjdthsGdPsKvaatwZfHOuEr7SueciV6BfyCFucDEXgjFcBgTHqvE7o3V5Zqohh93njjDdSvXx+vv16qhzaIiKiCsXggCBtb2BpxQVNh1EXPgVj620i4FLdJXf+s2wK93yvJm5hKh0EgEVVknp6eOH78OI4dO4bu3btDJpNZOksVQnZ6OrIBOL6i/94Vm4YqNAeQVGRiGEjPGY7wNFsWAYBBIBGRFalk6QyYlg2q2NrC9kXDH1NeQSUisiYymQydO3fGkydPcPbsWUtnp8KwaeKGbtWAA18vwYEbaUVeXZQdH4YNC79CGBzRy4MXDImIyPwsPyJoUjvxceedxa7lNu0nfN3n2WYDJSKyVnK5HL6+vvjtt9+QkpLCF40b48VOmLP9K7y+dgPWjB6ApQBs6qrgWCsVsdFpyIYN7Fr2wrTvRqBXE0tnloiIrIFMCCEK/zMmJgZOTk6WyI9e6TGhuJlqA2WLFlBW07FCZjrSs41MzMYWtrrSKE52Iq6FJyK7ViO4qeyKX5+IiMqcMW1YTEwMGjVqZHAds8nNRnp6NqBOxN3cOmhUy6b07VIh6TFhiE57AfWa62kriYiowrt7965JYrUKMyJo6+QGN0O/t5ppGlGDbJRo4c6RRCIiegZyG9i+aAO8qIKpn0y3dWqN1uXrOi4REZVTz9kzgkRERERERFQcBoJERERERERWhoEgERERERGRlWEgSEREREREZGUYCBIREREREVkZBoJERERERERWhoEgERERERGRlWEgSEREREREZGUYCBIREREREVkZBoJERERERERWhoEgERERERGRlWEgSEREREREZGUYCBIREREREVkZBoJERERERERWhoEgERERERGRlalsaKFarS6rfBARET0zhUJRovXZzhERUUVS0nbOEIOBoCk3REREVN6wnSMiImvFW0OJiIiIiIisDANBIiIiIiIiK8NAkIiIiIiIyMowECQiIiIiIrIyDASJiIiIiIisDANBIiIiIiIiK8NAkIiIiIiIyMowECQiIiIiIrIyDASJiIiIiIisDANBIiIiIiIiK8NAkIiIiIiIyMowECQiIiIiIrIyDASJiIiIiIisDANBIiIiIiIiK8NAkIiIiIiIyMowECQiIiIiIrIyDASJiIiIiIisDANBIiIiIiIiK8NAkIiIiIiIyMowECQiIiIiIrIyDASJiIiIiIisDANBIiIiIiIiK8NAkIiIiIiIyMowECQiIiIiIrIyDASJiIiIiIisDANBIiIiIiIiK8NAkIiIiIiIyMowECQiIiIiIrIyDASJiIiIiIisDANBIiIiIiIiK8NAkIiIiIiIyMowECQiIiIiIrIyDASJiOiZBQYG4unTp0avm5eXZ+YcERERkSEMBImI6Jnk5eXh9OnTCAgIKDYYXL16Nfbt24fs7Owyyh0RERHpwkCQiIieSaVKlTB79mwAMBgMrl69GlFRUViyZAmqVq1allkkIiuwfft2yOVyuLm5ISoqytLZISr3nqtAcN++fWjSpAnGjBmDR48eWTo7RGUuMzMTc+fOxcsvv4z/+7//gxDC0lkiK/HCCy8YDAa1g8Dq1atbIotEVA5lZmZi3rx5qF+/PjZu3Mh2i6gMlWkgmJqaip49e0Imk+Gjjz7CkydPTJZ2ZmYmDh48iKioKGzfvh2RkZEmS1ubOX/Dtm3bIJPJULNmTZw7d85k6VK+qKgotGrVCjKZDIsWLTJp2vPnz4dMJkPbtm1x69Ytk6ZdEvfu3cO+ffuQmJiI3bt346+//ip1WqyPVFL6gkFrCgJTU1Ph6+sLuVyO8ePHm7SNKI8CAgIgl8vRrl07k577rK0cjaUZ8apVq5ZJz8uWLO979+5h//79Jmm3TOV5LGdrwTIumTINBCtVqoTKlSsDAOrVq2fSW4OqVq2Kpk2bAgBatmyJevXqmSxtbeb8DZp0nZycULt2bZOlS/nkcrlUxg0bNjRp2pp07e3tLbrvHBwc8PrrrwMAmjRporPT/ffff+Odd97B/PnzDabF+kilUTgYtKYgEDBvG1EeaX5rnTp1THqesLZyNJa5zsuWLG8HBweoVCoAhtutd999FwEBAWWSp+exnK0Fy7hkyjQQrFq1KurXr2+WtDUjdBEREdizZw8aNWpklu2Y8zeYK13KV7t2bdjb25slbVMHlqVVu3ZtbNiwAWFhYZg/fz6qVKlSZJ3Y2FiEh4cXmxbrI5WWJhiMiYnB77//joCAAKsIAgHzthHlkbnOfdZWjsZ65ZVXzJKuJcu7du3aWL9+PS5fvgx/f3+97dbVq1fLLE/PYzlbC5ZxyVjsGUEnJyeTp1m5cmW0aNECDg4OJk9bF3P8BiD/Coa5AhbKZ64LBY0aNbJ4h7dmzZpo1aoVqlWrpnN5SEgIoqOjjU6P9ZFK47vvvkOtWrXQqlUrrFixwuhXSzxPzNVGlEfmPPdZUzka66WXXjLbedkS5V1cu3Xu3LkStVum8ryVs7VhGRevTAPBatWqme0qS1kx52+wt7eHq6urWdImoHr16mYNACuCx48f4/Lly0aty/pIpaV9O+i8efMAGJ5N9HnyPLRzJeHo6GiWdK2tHI1lrvNyeS7vkrRbpmKN5fy8YBmXjMVGBPWN2uXl5SEkJAQjR45EkyZNIJPJUKdOHbz77rvYs2cPMjMz9aapmbCjZ8+eSE1NLbBMM8nLyy+/LJ1Q7t27h4CAALi5uUEmk0Emk6Fz585Yvnw5Hjx4UOrf8KwcHBxgY2NT4H+a3/bll18CyP89q1evRufOnaUJPXx9fbF9+3Y8fvxY+t7jx4/x/fffw9fXFzVr1oRMJkOHDh2wePHiYn+jEAJxcXFYu3Yt+vXrh0aNGknb6tatG1avXl2knA3l+fHjx9i+fXuBvDRp0gQff/wxwsPD9c4UppnkxcvLC7GxsRBC4Pr165gyZYpURzS///vvvy/w+3VRqVRQKBQG1yktOzu7AvuucL3TlfdGjRphxIgRCAkJKfCS7bt372LOnDlS/axTpw769OmD3bt3IysrS+f2tScz0n4GMDMzE5s2bUKHDh2wfv16AMDcuXOleq/5nDlzpkiauuojkT6FnwksbjbR51lx7dykSZPQtm1byOVyyOVyeHl5Ye7cuYiJiTE4c6JmIospU6YgOzsbWVlZOHz4MAYNGoS6detCLpfDyckJH374IYKCggqcV/R5/PgxduzYgb59+0ppNGvWDJMmTUJoaGixaRQ+95lS4XKMioqCm5sbOnbsiNjY2AL9BicnJynvU6dOxfXr16WyFEIgPDwckyZNQrNmzaRyGjx4ME6ePFnsb3z06BEOHjyI4cOHF9hvbdu2LbKtwgrnWdMWTJ06VcpLrVq18Oabb+KHH34oth0z53lZU95CCCxYsAByuRw+Pj56+wya5/fkcjmaNGmi9xbO7OxsTJkyBXK5HMOGDYNarQZQcHIP7WcAMzMzsXnzZnh5eWHDhg0AgHnz5knlrvnoarc0dB0bzZo1w/Dhw406NsqinAvTVTcKH88PHz5Enz599L4mQzOJ01dffQUg/5xz8uRJDBw4ELVq1YJcLseyZcuKfE9zLI0aNUradt26dTFo0CD88ssvBvvgpkijcL4156U333xTyrfmvGSo36hRVncIVmhCh9u3b+v6t0ls2rRJABCnT58usiw1NVWMGzdOAND78fHxETdv3tSZtr+/vwAgevToIVJSUgosS0lJET169BAAxOHDh8WOHTuEnZ2d3u24urqKs2fPlvg3PIvk5GTRrVs3MXr0aJGRkaHzt82YMUOEh4cLLy8vvXl/5513RFJSkrh27ZrB9Tw8PERkZKTOvOTk5Ij58+cb3BfFpaGd5+LyolAoxKpVq8TTp0+LpHPjxg3h6uoqVCqVuHz5sli6dKlQKBQlriN5eXli3rx5wtXVVdy4caMUe0i/69evCxcXF+Hv71/g/9r17tChQ2Lbtm16651CoRBLly4VWVlZBtcDIMaNGyfS09OL5EN7e9p50ZRhcftTu04bqo9EuqxatUqMHz9ePH78uMiy7OxsMXfuXDF37lyRnZ1t1nwY04bdvn1b5ObmmuWzceNGAUAEBwcXWfbgwQMxduxYg8ehQqEQ/v7+Ij09XWf6W7ZsEQDEkCFDxI0bN8Tbb79tML0ZM2aIR48e6c3vxYsXDZ6fDaXxxx9/CBcXF+Hn51dm5RgZGSm1CefOnROLFy/W2ybY2dmJ7du3i4yMDIPrARCLFi0SWVlZOvNy4sQJg+dkzX7bunWryMnJKfJ97TxfvHhRLFmyxGBeunfvLm7cuFEknaSkJNG1a1cxatQovfXDlOV9+PBhAUAolUpx4cIFnd+7cOGCUCqVUt7Xrl2rcz1N3gGI5cuXS/9PTk4WPj4+AkCBeqQps+LaLe38ao4NV1dXcfz48VIfG2VdzppPVlaWWLlypcG6MX78eBEWFiY8PT2Fq6uriIyMLJKOn5+fVJ6PHj0SM2bMKJJO4f1kzLlJX700VRqafE+fPl1cvXq12H7jypUrdR6zhsr4efmYKlYr8xFBuVwOpVJZZBafx48fY86cOVizZg2cnZ2xYsUKxMTEICUlBXFxcdiwYQOcnZ1x5MgRfPrpp7h//36p87BixQpMnz4dzZs3x8aNG6XtREREYOrUqVAoFAgPD8eyZcvw8OFDo3/Ds6pUqRLkcjmqV68OuVyuc52jR49i9OjRyM7OlvKenJyM06dP47333gMA7Nq1C/PmzcOUKVNw/fp1LFq0CJGRkUV+4/nz57F06VKdVx7lcjk6dOgApVKJjz76CCdOnEBycjJSUlKQlJSE77//Ho6OjgbT0M7ziBEjEB8fD39/f1y6dKnIflWr1Vi4cCFCQ0P1phMdHQ0/Pz/Mnz8f3t7e2LNnD+Li4pCSkoLz589j6NChAIAjR45g9erVRUbNZDIZ5HI5atSoYfJ9J5PJUKlSJdja2upd56uvvsLMmTPRo0cPHD58GElJSYiLi8NPP/0EV1dXqNVqfPnll/j8888xdepUvPrqq9i1axfi4uKQnJyMo0ePonfv3gCANWvWYOfOnUbnz9nZGVeuXEFKSgp69OgBAPD394cQosDHy8tL+o4x9ZFIo7jZQa1pZNBQOzd37lysXbsWCoUCH330EYKDg5GUlISEhATs3bsXPj4+UKvVmDt3LlatWoWcnBy927l8+TLGjBmD48ePY+LEiQXS2r17N9zd3QEAixYtwpEjR3Smcf36dYwfPx5nzpyBj48P9u7di4SEBCQnJyM8PBxTpkyBQqHAokWL8M033xTJjzHnvtIqrq2Njo7GggULsGLFCgwdOlT6/bdu3cLatWvh6OiItLQ0LFmyBHPnzsX06dPRqVMnHDx4EAkJCUXKaeHChQgODta5LZVKhdatW6NXr17YunUrYmNjkZycjOTkZJw4cQLdu3eHWq3GggULDL6+Kjo6Gv7+/ggICECnTp2we/duKa2QkBC8//77AIDAwEB88803Rdoxc56XdZW3SqWCp6cnEhMT9d6eefnyZSQmJkKpVAIAwsLCdI763Lt3D5GRkVAoFFKZG+Ls7IzQ0FAkJyfDx8cHAODn54fc3NwCH+12SyMjIwN+fn44fvw4Pv/8c1y4cAHJycnScebt7Q1A/7FR1uUMAEII7Nq1C7NmzYJarYa7uzt2794t1dXff/8dgwcPxurVqzF8+HDcuXOn2G3FxcVh+fLlWLRoEVxcXLB48WIEBgZi//79aN26tbSe9rnJ2dkZy5cvx61bt5CcnIzY2FisX78ezs7OCAwMxLRp03T2wU2RhsaxY8cwatQoxMfHw8/PT9p/2umo1WosWrRIZ7/RXP3051Jpr6aa2tatWwUA4ejoKE6ePKlzncuXL4umTZtKV5Py8vIKLDd2RBCAGDt2rHj06FGRbeTl5Yl169ZJVxtMPepXWprfBugfhUtLSxPvvPOOtJ6+snz69KmYOXOmACBUKpUIDw/Xuc2nT5+KzMxMncu0y0lfGoXzHBERoTOt8PBwab/Onz+/yH4tPJq1cOFC8eTJE4O/yxyjfqVRuN7pG8m7ePGicHR0lNbr16+fSEpKKrJefHy86NKliwAg3n///SJ1WN+IoLHLiUpDcyVe10hgYdnZ2WLz5s16zy2mYOkRQX2f9evXS23L5s2bxdOnT4usk5GRIRYsWCCtFxgYWGQdzaiH5jx/9OhRnaNQ9+7dE507dxYAdI5spKeni1GjRgkAom/fviIhIaFIGk+fPhVr166VRoVCQkIsfiW88EiRvpG8X375pcDIiqbdL7xeWFiY1AZNnz5dZGdnF1knJydHqNVqneVcOA1dI2KF87xgwQKRkZFRZL2srCxp9EbfaE9ZfrTryKRJk0RmZmaB5X/99ZcYMmSIACC++eYb4erqqjffmnrk7e0t4uLipP/rGxE0drmhY+P48eM61yvu2LDE5/bt29IImL7jMSsrS3z33XfSbyxuRNDBwUEoFArx2Wefib/++qvYcjNUZhcvXpTq+BdffFHkWDBFGpp8a/qN4eHhOtPRPt78/f31HpfP86fCjgjq8vfff2Pv3r0AgIkTJ6JTp04613N1dUX//v0BAMePHy/1S0dVKhVGjhyp8zkxmUyGTp06SSM0t2/fLtU2zGnkyJHSOxO11a5dG127dpX+Hjp0KP71r38VWa9y5cp48803oVAoEB0drbccK1eurPdqikwmg4eHB1QqFaKjo6V7/fUZNmwYmjdvrnOZSqWS9nlsbKzB+8c7duyI999/X+f00tq/Kzw8/JlGjc2hadOmGDduHGrUqFFkmbOzs1QGCoUCEyZMwEsvvVRkvZdffhlvvPEGACAxMZEvSqVyoVKlShgyZIhRs0a+8MILeP/9963uSu3Dhw9x4MABAMDAgQPRv39/VKpUtAmuUqUKhg8fjj59+kCtVmPXrl0Gz4nvvvsuOnbsCJlMVmSZ9vni9u3bSE9PL7A8MjIS+/fvh1KpxIwZM3SecypVqoTevXvD29sbiYmJOH78eIl+t7l17doV77//vvTeMG1t27aFm5sbgPzz79ixY3Wef1UqFTp27AgAePDggc5nsGUyGapXr66znAGgcePGaNOmDQAgOTnZYJ47duyIIUOG6G3HfH19y007Vq1aNTg7OwPIH+lLSUkpsPzOnTs4f/48PD090aFDB7z22msIDw8vMiqamZmJsLAwAEDr1q3LZCbqf//73zpHC4Hijw1LOHv2LM6cOWOwD1C5cmW89dZbUl+4OMnJyejRowc+/fRTvXMjaPfBJ0yYYPcbmlEAACAASURBVLAP3q9fPwBF++CmSKOwoUOHGuw3ao7Z4vqNZFi5CAS132vWtm1bvSdazYPIABAfH1/syVYfV1dXg1PK2tvbSy+kj42NLdU2zEWlUhm8pUI7QOzYsaPeWxrs7e2lMoiLiytVXqpUqWJUx0+pVKJdu3Z696v2DE9xcXEGD+i2bdsafPjXFL/LXNq2bav3nVu2trZSvtu0aaMz0AfyOyONGzcGkN9hSUtLM09micikYmJicP78eQBAt27ddAYkGnXr1pVuXbt27ZrBts7Ly0tnEAQUPF+kpKQUOV9obulr1qyZtJ4utWrVwmuvvQag/HW63N3d9bYJ2vlu06aN3vNvSdogfSpXrmz06zPatGljdDsWHx9f4ryYmru7OxQKBUJDQ3Hv3r0Cyy5duoTo6Gg4OTmhcePG0kybp0+fRnZ2trTew4cPpUlN2rRpUyYTkHl4eJT62Chr2dnZ0q23np6eaNmypd51a9euLQVBxhg5ciRq166td7n2OxrbtGljVB/8zz//LHBeMkUa2pRKJdzd3U3SbyTDdB8hZez+/fvS+2E0jZ85NWjQQO+7asq7unXr4sUXX9S7XBP4KZVK2NnZPfP2Hj16hFOnTiEkJARXrlzB06dPERsbq3OWKn0aN25ssqt/DRo0qLAzWNrb2+u8Agz88/yiZj1DnUQiqngSEhKQmJgIoPhXLshkMimAOXv2LOLj43V+R6lU4uWXXy5VfnJzc6ULnceOHZMuflY0mpkgdSl8XtV3/jVWTk4OwsLCcOrUKVy6dAlpaWlQq9U4d+5cidKpaO1Y48aN4ebmhqCgIFy9ehXt27cHkD/Kd/HiRQD5o3w1a9aEh4cHgH9GDzX1886dOwgNDYVKpUKLFi3MnudnOTYsITMzU7p47ejoWGwfwNjf1qZNm2Jfb5WcnCz1wbt06WJUuuZIQ5sp+41kWLkIBEs7sldatWvXrlAnYW0KhcKoh/IdHBye6eH9zMxMfPvttwgICChypUyhUEhXo65cuVLsbaHG5tkYFXkqYGPrXZ06dSps/SQi3TTnSVdXV6M6OMZcyHuW83x2drbFR0FMwdg24VnafSEETp48iRkzZkiBj7bWrVvDzs4Ot27dMuouoorWjtnb26N169YICgqSJoKpVq0a7t27h/Pnz0OpVEp9As3kMkFBQYiMjJQClosXL0KtVsPHx8ds757U9qx9oLKWk5MjnSNeeeWVYgcrjH1PXp06dQyOBgKm6YObuh9va2tbofZfRVYubg3VcHFxkd7DU9znypUr0n3rZFqZmZmYNm0aPvnkEzx9+hTjx4/H+fPnkZGRASEEHj16hODgYKxfv97gLbZERFT+/fe//4VarS4yG6Ouz9q1ayvsHTWl9dNPP2HAgAG4ePGiNLNqcnIycnJykJubi0uXLuHXX3+VZmR+3tjY2EjPP2rfqhwZGYnw8HB4eHhIfQHNoyAAcP78eQghoFarpecDXV1dUbNmTQv8CiqOi4sL/vjjD6POA6GhoTr74KZIg8pWuQgENQ+wRkRElPnoIBUVGhqKTZs2AQBmzZqFL7/8Eu3atbO6xp+IyFQ0o0Dh4eFFJtzQRTNap1AozPL6Fs3U+ABw9+7dYl9gbq1SUlKwadMmqNVq9O3bFxs3bkSfPn1Qp04dvc8vPY9atGgBlUqFiIgIxMfHIzs7G6dPnwYAuLm5oVatWgDyg0bNJHVnzpxBamoq0tLSEBMTAyD/uT1rKjdjVa5cWeoLJyUlFTsRnCmfiTNFH5z9+IqrXASCr7zyivT+GX3vqaGyc+3aNajVari4uKBfv356H7a+f/++NMkPERHp5+DgAJVKBaD4SciEENLECy4uLlL7aEo2NjZo0KABgPyRncKTgFC+hIQEKYgZOHCgzpkcASA9Pb1czjJuKo6OjmjZsiXUajUuXryIlJQUhIWFQaFQoHPnzgWCu2bNmsHV1RVXr15FbGwsoqOjcfbsWXh6ekrHABVUpUoV6WKRMRMyaZ43NoWXX35ZOscYepezudMgyygXgaCTk5P08PGxY8eQlJRk4RxZN83VnEqVKum9cieEwKVLl8oyW2QC1apVkzp/Dx8+LDCrGxGZz6uvvgpPT08AwJEjR/Do0SO96yYlJSEoKAhA/kiMuZ4p8/T0hFKpRGJiIn7//XeDL6+3Vmq1WpoEw9DI7J07dwy+SL6iq1mzpjQj6K1bt3Dz5k2EhobC09OzyO199evXR6tWrZCYmIjIyEhcu3YNQOnrsjW0W1WrVpVedRIWFibVOV2ysrJMOmji5OQkTfJT2j64KdIgyygXgWDt2rXx1ltvAQAOHDgAf39/gxOQ5OTk4O+//y6r7Fmd119/HUD+dOf6rlwHBwdj5cqVZZktMoFKlSpJEyZEREQgNTXVwjkisg41atRA//79oVAosHfvXuzfvx95eXlF1svKysKmTZtw7NgxKBQKDBw40Gy35bu4uKBPnz4AgGXLluHHH3/UmSeNx48fW9007S+99JL0fFxkZKTOYPn+/ftYtGiRSUdpyhvNu4MB4ObNmzh58iTUajXc3d2LTEZSo0YN6eL+6dOnERERASB/Up3S1GVrabe6dOkCDw8PJCYmYsOGDTr7wUIInD59Gj///LPJtqvdBz948CDmz59f4j64KdIgyygXgSAA9O/fH+PGjQMArF27Fr169cKmTZtw584dpKam4s6dOwgMDMScOXPQokUL/PbbbxbOsW7btm2DTCaDTCbDtm3bLJ2dUmnRogWaNm0KtVqNadOmYf/+/Xjw4AFSU1Nx69Yt+Pv7Y+DAgcjLyzPJKyrKg8zMTIwZMwYymQytWrUq0esxKhLtq45Hjx7F559/jlu3bknHmLHvzUxNTUXPnj0hk8nQs2fP57ZhJjKl7t27Y+jQoVCr1fjoo48wcuRIXLhwAampqXjw4AGCgoIwfPhwzJo1CwAwc+ZMk0zFrk+1atUwceJEeHh4SHkaPnw4AgMDcf/+faSmpuLKlSvYu3cvhg0bhq5du5boFtIzZ85ALpdDLpcjICDAbL/DnJRKpfS6g9WrV2PFihWIj49Hamoq7t+/jx07dqBfv344ffq0NGplKampqfD19YVcLoevr6/Jz8uaGUEjIyPx008/QaFQwNvbW+dIaZs2baBUKrFv3z7s3r0bSqVSCqhLSrvdOnbsGPz8/ErVbpmKucq5UaNGGD58OADg+++/x3/+8x8cP35c6n9du3YNAQEBGDx4sMlf99KvXz+MHTsWAPDtt9+iT58+2Lx5c4E++NGjRzF37ly0bNkSBw4cMEsaZWH79u3SeWn79u0WyUN5Ui5eHwHkX0FaunQp7Ozs8PXXX+PUqVM4deqUpbNVIkIIaThfqVRKL82saJo1a4bZs2djzJgxCA8PR9++fYus4+Pjg4ULF+Lrr7/Gli1bLJBL09J+vkOlUlXYd2oZo3fv3ujXrx9+/fVXrFu3DuvWrZOWbd261aipvR88eICEhAQA+fVF86A4EelXrVo1LFq0CLVq1cLKlSuxceNGbNy4sch6CoUCn376KSZMmKD3GW1Tadq0KTZt2oQpU6bgwIED2LJli95zuubWQGNpnq0rzXfLixo1auDTTz/FjRs3cP78ecyYMQMzZswosI6joyPWrVuHBw8eSB1hS3jw4IE0KmmO87KDgwNatGiBs2fPIjExEd7e3nr7Oa+99ho8PT2xe/duAPm3IT/LayN69eqFvn37Yt++fVi/fj3Wr18vLduyZUuZvJJCw1zlLJPJ8P777+Phw4dYsGABDhw4oDNYGjt2LHr06IH+/fubZLtAfj1fsmQJ7OzssHLlylL1wU2RhrkV7qdz1tJyNCII5Fcif39/nD9/HrNnz5ZuLQD+eXfd7NmzceHCBQwaNMiCOdUtMzMTf/75JwCgW7du0i2WFY1MJsN7772HU6dO4b///a90grWzs0Pv3r2xbds27NmzB23atEHTpk0tnFvT0FzdBfL33YsvvmjhHJnPSy+9hE2bNmH58uVo3bo1gH/2bcOGDY1KIzk5Wbrdx9fXl+89JDJSjRo14Ofnh5CQEMyaNUs6BgGgffv2mDVrFkJDQzFz5swym6lZpVJh165dOHz4MIYNG1agc+To6Ig+ffrgm2++wa+//mp0uyaEkAJBb2/vUo8GlQdNmzbFr7/+ioULFxbZX/7+/jh58iQGDBiAli1bWvSimLnPy9WqVSvw+zt06KB38hztZwqB/NtCi3ufnSEvvfQSNm7ciC+++KJAu9WrV68yH4k1ZzlXqVIFU6dORVBQECZMmCAdi3Z2dnj77bdx8OBBLF++3Cx3YxU+N+nqg8+aNQvnzp3Du+++a7Y0zEm7n961a9cK2083JZkQQhT+Z0xMDN8PVwoJCQn4z3/+g5MnT2LDhg3473//a+kskZECAwPh4+ODpk2bYteuXWjevLmls1SufffddxgzZgy6deuGzZs3m2VWQ6LSMqYNi4mJQaNGjcooR9ZHrVZj/Pjx2Lp1K2bPno25c+ea5TUY9I9169Zh7Nix6Nq1KzZt2sTzspmUh3IODg5Gly5d4Orqih07dnBky0gJCQkYMmQIgoKCsH79eulW3Iro7t27JonVytWIYEV37949XL58GR4eHnjjjTcsnR0qAc0MqN27d8drr71m4dyUb0+ePJGmtvf19X2ub6MlotK5f/8+rl+/DqVSiV69ejEINDOel8tGeSlnzXORlStX5rFVAvfu3UNoaCg8PDzM+vx1RcJA0ITCw8OhVqvh4+Nj9C12ZHlqtRrXr1+HQqFA3759UaVKFUtnqVxLS0tDZGQkmjZtih49evDlwERUxN27d3H58mX4+PjwDosyoH1e9vHx4XnZTMpDOWdmZuLs2bMA8ieYqVu3bpnnoaK6evUq1Go1unfvzn76/zAQNJHs7GxERUXB0dERffv25RWaCiQtLQ23b99Gz549pZnJSL/ExERERUXhzTff5OgpEel07do1KBQK9O/fHzVq1LB0dp57iYmJuHnzJnx9fXleNiNzl3NiYqLBV7jk5eVhz5492LFjB4D85zRr1qxp8nw8j7T76X369GE//X/4jCARET1X+IwgEVVEAQEBOHjwIN588020b98er776qhTo3b59G1u3bsXmzZuhVqvh5eWFzZs38zxmpUz1jGC5eX0EEREREZE1O3/+PM6fP29wHS8vL3z11VcMAumZMRAkIiIiIrKwyZMnw8PDA0ePHsWlS5dw9epVpKWlAQCcnZ3RqlUr9OvXD7179+Yt12QSDASJiIiIiCysRo0a6N69O7p3727prJCV4GQxREREREREVoaBIBERERERkZVhIEhERERERGRlGAgSERERERFZGQaCREREREREVoaBIBERERERkZVhIEhERERERGRlGAhShZaamoqePXtCJpNh/vz5ls5OuZWZmYkxY8ZAJpNhzJgxyMzMtHSWrMb8+fMhk8nQs2dPpKamWjo7VEEFBARALpfD19eX9chCuA+I6HnDQLCQ4OBgNGnSBJMnT5Y6y1lZWQgICMCrr76Kn3/+2cI5JCJTuXTpEtq1a4cBAwYgLi7O0tkhMrvU1FSMHDkSzZo1w5EjRyydHSKTYx0nMl6ZBoLaozcfffQRnjx5UpabN0pQUBCioqJw4sQJ3Lt3DwCQnp6O06dPIyYmBmFhYcjNzbVwLssfc+7bqKgotGrVCjKZDIsWLTJZuvSPbdu2QSaToWbNmjh37pzJ0i3vx/yhQ4dw8eJF7N27F2fPnrV0dgzicVAxpKamwtfXF3K5HOPHjy93df7GjRv44YcfEBUVhX379pVp/rZv3w65XI5atWqZ/DxTnsu8rGhGLNu1a4dbt26ZLN2oqCi4ublBLpdj8eLFJkvXXCxZx03BXMcJkS5lGghWqlQJlStXBgDUq1cPVatWLcvNG8Xb2xvOzs7o0qULGjZsCACwtbXFv/71LzRv3hweHh6Qy+UWzmX5Y859K5fLpbQ1+4RMS1O+Tk5OqF27tsnSLe/HfMuWLaFQKODo6IhXX33VInnIzs7GJ598UuwtuzwOKobyXudfeeUVeHl5AQBef/11VKlS5ZnT/Pvvv/Huu+8iICDA4HrWep4pK5oyqFOnjknLt6Kde4yp45cvX0b9+vVx5syZss5escx1nBDpUrksN1a1alXUr1+/LDdZYp06dcKNGzcK/K9KlSqYPXs2Zs+ebaFclX/m3Le1a9eGvb29WdKmfObad+X9mO/Tpw8uXryI6tWrWyyfKSkpCAsLg7Ozs8H1eBxUDOW9zjdq1Ag///wzkpOT0aRJE8hksmdOMzY2FlevXkXLli0NrvfKK68887Z0Ke9lXlbMFaTVrl0bderUMUva5mBMHb98+TISExMtkLvimes4IdKlTANBbU5OTpbaNJmZOfdto0aNzJY25V9NN1ewUR6P+UqVKhUbgJnbH3/8gZMnT5YoHzwOKobyWOcBwMHBAQ4ODiZL79y5c4iOjjZ6/ZdeesmqzjNlrVGjRqhevbpZ0nZ0dDRLuqZmqI6r1epyORJYmDmPEyKNMr01tFq1arzS8Zwy576tXr06O75mZm9vD1dXV5Ony2PesLy8PISEhBi1Lo+DisHa6vzjx49x+fJlo9bleca8zBWkPW/nnvj4eERERFg6G3qZ6zgh0sVis4bqu1IjhMD169cxZcoUaUi/UaNG+OCDDxAUFIS8vDw8fPgQvXv3RqtWrRAVFVUkDc107V9++SWA/M7WiRMnMGDAANSsWRMymQxLly6V1j9z5gxkMhlkMlmxV4mKW7fwth8/fozt27fD19dX2naTJk3w8ccfIzw8HEKIYssqNTUVq1evRrdu3aQ03NzcMGfOHMTExOhNQzO5hJeXF2JjY6VO54gRI9CoUSMpL1OmTMH169eldIQQCA8Px8cff1xgHwwaNAgnTpxAXl6ewfya8kqzNpVKBYVCUex69+7dQ0BAANzc3KQJULp164bly5fjwYMHxX5fuw5qp+Hr64vvv/8ejx490vtdzaQrn3zyCbKzs3Xu/86dO2P16tUFph/PysrCL7/8gnfffRd16tSR9vGUKVNw9+7dYvOs7/tz5szB3bt3UbVqVdSrV6/YdBwcHGBjY1PseqWhq15kZWUhMDAQH374oVTXNHn/8MMPsXPnTiQnJxf5nuY400yaojlGOnfuLKWhq5wL0+wvfecSDc2xM3LkSCmfderUwbvvvos9e/aU+HUcOTk5OHToEDp37ox58+YBAL777jtUr15dyr9MJsO2bduKfNfY44AsT1+dP3r0KIYPH45mzZpBLpdDLpejbdu2GD58OH788Ueddb6wx48fY8eOHXjzzTdRq1YtKY1JkyYZbFu0J/7Yvn17keWaiSqmTJmC7OxsqT3473//i7p160Iul2Py5Ml4+PAhNm/eDC8vL2zYsAEAMG/ePOn3aD662smyPM9oJpLRTLyhOb9PnTpVKv+6deti0KBBOHz4MLKysp5p+5mZmQgKCsKkSZPg5eUllUOzZs0watQohISEFGlDL1y4gPr160Mul+OHH34odht//PEHWrRoAblcji+//LLIvrazszNL+Ro69+gqVycnJ3z44YcF+m59+vSBm5tbkfNtZmYmxo4dC7lcjrFjxxo8pxa3rr46npCQgBkzZqBTp04IDw8HkP84kHZ91fVqkLy8PFy/fh3Lli2Dr6+vdBzUrVsXffv2xY4dO/D48WOdedXUv/r160sXTB4/foxvv/0Wnp6eUjoXLlwo8l1zHidEEqHD7du3df3bJDZt2iQAiNOnTxdZ9vTpU7Fq1SqhUCgEAJ2fCRMmiPDwcOHp6SlcXV3FjRs3iqTj7+8vAAh/f3+Rnp4uZs6cWSSdb7/9Vlr/9OnT0v915Utbcetqtj1jxgxx7do14eXlpfe3KBQKsWrVKvH06VOd28rLyxOHDh0Szs7OpUrjxo0bwtXVVahUKnHhwgWxZMkSvWVrZ2cnduzYIZ48eWJwPQBi8eLFOrdnaN8+i7y8PDFv3jyd+zslJUX06NFDABB+fn5ix44dws7OTm/eXV1dxdmzZ/VuKyMjQ8yfP9/g7zeUxtatWwUA8f7774vr16+Ld955R286Xl5e4saNGyI+Pt7geo6OjuLkyZN685yUlGTw+3Z2dmLbtm1i3rx5AoAYPXq0yMjIKJBGcnKy6Natm85lz0pfvSgu35rPBx98INLT0wt8V3OcTZ48WYSGhho8zpydnUVQUJDOvGn2l75ziRBCpKaminHjxhnMo4+Pj7h586bO72vy2qNHD5GSkiKEKFhvDX22bt0qpWPoOKCCjGnDbt++LXJzc83y2bhxowAggoODC/w/ISFBvP3228Xu92HDholHjx4V+K6fn59U14KDg4ttW1auXCmysrKK5C0yMlK4uroKAGLLli1Flm/ZskUAEKNGjRIPHz4UK1euLHI+nD59uoiIiJDSMfTRLoOkpCTRtWtXMWrUKJGenl4mZZ6cnCx8fHwEALF7926xdetWg23E22+/LRISEnRuQ3sfJCcnF1l+7do10bp162LLZNGiRQX2zaNHj8SwYcMEANG/f3+RkpJi8LeuXbtWABAqlUqEhYVJ///jjz+Ei4uL8PPzM2nZ5uTkiLlz5wpXV1cRGRlZZHlWVpbOeqL9GT9+vAgLC5P6boXTSU9PF6NGjZLqnqH6Udy6+uq4pm4Xdy7X3rePHj2StmXo07dvX531Rrv+BQcHixs3boju3bsX+G7h/WjO44Sf5+djqlitzEcE5XI5lEplkVm9hBD46aefMHPmTKjVari7u2PPnj1ISkpCUlISDh8+jPfeew+rVq3CBx98gDt37hS7rbi4OHzxxRdYuHAhXFxcsGTJEhw9ehS//fYb3NzczPUTAQBHjx7FiBEjEB8fD39/f1y6dAkpKSmIi4vDhg0b4OzsDLVajYULFyI0NFRnGsHBwRgzZgyioqLw3nvv4cSJE0hOTkZKSgrOnz+PoUOHQq1WY+bMmfjpp5/0XgGOjo5GQEAAli9fjmHDhuH06dNITk5GTEwMvv32Wzg6OiItLQ2LFy/GnDlz8Nlnn8Hb2xuHDh2Syn/Pnj1wd3cHACxYsABBQUFFtqNv3z4rmUwGuVyOGjVqGEz75MmTmD59ulR34uLikJKSgoiICMyZMwcKhQLh4eFYtmwZHj58WOT7OTk5WLlyJebMmYMXXngBfn5+iIiIQEpKSoEyCA8Px+TJk3H9+nW9ebl06RLGjRuHq1evYsWKFYiMjERKSgouXbqEyZMnA8gfXf78888xdepU/P7775g6dapUT2JiYrBo0SLY2dkhNjYWAQEBOh9sf/z4MebMmYNdu3YBAMaOHYvz589LdU2T5zFjxmDt2rV681upUiXI5XJUr17d5LPi6qoXWVlZWLZsGXbt2gVnZ2ds2LBB2l+aclqyZAk8PDzQp08f1KhRQ2faR44cwaBBg5CSklKgnCMiIuDn5wc7OztERUVh2rRpBveXPpryXbNmDZydnbFixQrExMQUOZaPHDmCTz/9FPfv3zcq3Tp16uD3339HRkYGRo8eDQAYPXo0MjIyIISQPv/5z3+k7xh7HJDl6avzX3zxBX7++Wc4Oztj/fr1iI2NRXJyMpKTk3HhwgUsXry42Dp///59TJkyBSkpKVi+fDmuXbuG5ORkxMbGYuPGjXB1dYVarcaiRYv0ti3GiI+Px+bNmzFr1izY2dlh5syZOHz4MA4fPowuXbqgWbNmCA0NRXJyMnx8fAAAfn5+yM3NLfDRzN4IlP15prBly5Zh7NixaNu2LXbv3o3Y2FgkJSXh+PHjGDx4MADg559/xvz58/WO8BjSsGFDtGzZEh07dsQ333yDW7duSfs3LCxM2sbChQsRHBwsfa9GjRro06cPAOD8+fMGn7f8+++/cfToUQCAp6dngdmOZTIZKlWqBFtb2xLn3RBD5x4hBHbt2oVZs2ZJfbfdu3cjISEBCQkJ+P333zF48GCsXr0aw4cPN6rvZi7//ve/kZubW6Dsg4ODC9TXQ4cOFZgYp0aNGnB3d4ejoyNmzpyJkJAQaZ/GxsZi0aJFUCgU2LdvH9asWWPw9WKXLl3C9OnTERgYiF69emHTpk04fvw4Fi5cWGAk25zHCVERpb2aamp37tyRrnD269dPJCUlFVnn6dOnYt26ddJVlOJGBB0cHIRCoRDTp08Xjx490rttc4wIAhAeHh4iIiJCZzrh4eGiadOmAoCYP3++yMvLK7D8/v37om/fvgKAGDduXJERESGEePLkiZgxY4a0rZiYmALLNSOCmvzoG8nbu3dvgSt5+rannecZM2aInJwcg2VVFgqPrOjLe15enlR3FAqFzn0XFBQklEqlUCgUYtu2bUX2iRBCxMbGii5duggAYuLEieLJkycFlmtGmAD9I3lPnjwRU6ZMKXD1Xtf2tPMMQBw5cqRIWrt37y52/z569EiMGDFCWs8co34ldffuXeHp6SldpdcnLy9P5ObmFvl/4eMsMjJS53cDAwOFUqkUAMSUKVP07i995xLNckOjspcvX5aOi+XLlxfZj7pGBDUyMjLE6NGjy81+eV5YekRQ1ycmJkaq8z///LPe9XJycsTTp0+L/F8zGqWp89euXdP5/bCwMKk++vv7i5ycnALLjR0RVCgUwsHBQQwZMkT8+eefevOrPeJh6pEoU3y08wdAjB07tshoa25ursjIyJDKWKFQiF9++UXvPtA3IpibmyvUarXO/Zebmyvu3bsnOnfuLI2qZmdnS8vi4+NF165dBQAxe/bsAsu0PyEhIdI5zVA9KqvP7du3pb6bvlGxrKws8d133xXou1liRFDzCQ4O1jlire+TmZkpMjMzdS7LysqS+mHe3t4iLi5Ob/1TKpXC0dFR/Pjjj3rrCD/8GPupsCOC+pw5cwZnzpyBQqHAhAkT8NJLLxVZp3Llynj77bcxYMAAo9JMTk5GNoyCNwAAIABJREFUz549MW3aNIs8UzNs2DA0b95c5zKVSoVOnToByJ96u/A97ufOncO+ffvg4eGBqVOn6rw6XKVKFQwePBgqlQrnz5/XeY+5Rrdu3TB06FDp/TTa3N3d0aZNGwBA06ZNMW7cOJ3b087zgwcPnvlZClNr2rQpRo8erTPvMpkMnTp1kq6W3759u8Dy7Oxs7N27F4mJifjwww/x1ltv6ZxyumHDhhg0aBCA/DobFxenNz9Dhw7Fv/71ryL/r1KlCnr06CH9/dZbb6Ffv35FtqedZwBFRgQfP36M/fv3AzC8fxUKBUaOHAmlUqk3r2Xt6dOnUv0x9CyI5gq3ISNHjkTTpk11frdjx47497//DSB/lN6Y5y01/v77b+zduxcAMHHiRKnuF+bq6or+/fsDAI4fP46//vrL6G2Q9TBlnR8+fDiaNGmic5lKpULHjh0B6G5bjKVWq6FSqeDn52fU88UVQdOmTTF27Fi97emQIUPg5eUFtVqNQ4cOlarsqlevrnf/1atXD+3btwcApKWlITs7u8AyX19fAPnnkfj4+CLfF0IgMDAQiYmJ8PT0NPudTcY4e/asUX23t956SzpPVjQ2NjZ6n9WrXLkyOnfuDAD466+/oFar9aaTmJiISZMm4a233ir2GCcqK+WiJmZnZ0sP0Xp5eRmcLal27dpSI2eMkSNHWuSFnEqlEu3atdP7jibtWc7i4uIKNDi5ubk4d+4cAMDFxUXniVV7O5qZwm7evKl3PXd3d72TuNSqVQuvvfYaAKBt27Z630VkKM/lQfPmzQ3OmmZvby91aGJjYwss07zLDQDatGlj8CXLmqDj8uXLBm8F7Nixo97bOho0aAAXFxcAQPv27fXeBlZcnjX73Nvb22BnTaVSlYtOg4ZSqZR+/7Jly3DkyBHk5OSUOB2VSiXdsqyLdtAdHh6Oe/fuGZ12bGysNKFA27Zt9R7Lcrlc6pTHx8cbNdEHWR+lUokWLVoAAL744gsEBgaWqs4rlUq0bt26VG1LSQ0ZMuS5mi2yTZs2Bt+116BBA6l/ERUVpfMRgmchl8tRrVo1nctkMhl8fHzQtGlTnD17VudtvUlJSdJjGW+88YbF352o3Xfz9PQ0+B7JkvbdKhJ9+7Qwb29vvP322yZ5dyeRqVjsPYLaMjMzpZEVR0dHvZ1ijZdfftmodNu0aYPGjRs/c/5Ko3HjxqV+/0tGRoZ0NXDDhg3SjGzPQjPLlS6a+/+B/MDDUBBUnjVo0MDoE3JhKSkp+PPPPwHkj+QOGzbsmfKiVCphZ2end7n2Vf/SjtSlpKRIz1s0btzYYONS3l64XKNGDYwaNQphYWEIDw9Hjx490LFjR4wZMwa+vr5GX7x55ZVXij3ONEF3REREiYK0+/fvS8/qeHt7G/09Il1q1KiBkSNH4sqVKwgPD0fPnj3RsWNHjB49Gj179jS6zj9L21ISCoWi2BfEVzT169c3+H497Ys6xY3u6JOXl4eoqCicPHkSFy9eREJCAp48eYIrV64Um56TkxM6duyI69evY//+/fDx8SnQH7p+/TouXLgApVKJXr16Wfz5MXP13cqj5ORknDhxAqGhoQgPD0deXh5u3bpV5AKtIc2aNTPYLyCyhHIRCObk5EgnyFdeeaXYzryxHVp7e3uLjAYC+Y1oaR/Yzs7ONvmogrGvdKhdu3aFna74WfKuVqtL9ELk4jg4OBi9/7UfTC+JJ0+eSLeLFnfV3sbGptw1QB06dMD+/fuxdOlSbNq0CadOncKpU6egUCgwYMAAfPzxx2jVqpXBW2iqVKlS7IUL7aA7JibG6PxxZI9MrUOHDvj111+xbNkybN68uUCd79+/PyZOnFhsnbe1tTX5ZCC6ODk5Waz9NJdq1aoVGzxploeHhyMlJQXOzs5Gp3/lyhXMnTsXBw4cKLLM2dkZDRs2xL179/S+qqZatWrw8fHBunXrcPbsWdy+fVsKxnNzc3Hs2DGo1Wp07doVKpXK6HyZS0n7bhXxXY9paWlYtmwZ1q5dWySQt7OzQ+fOnfHkyRPpLi5D6tWrx4m+qNwpF7eGkn7z5s1DXl5egZkE9X3mzJlj6ew+F4KCgowqbyFEgRnxyjNDtyRZUoMGDbBq1SrcunULq1atgouLC9RqNTZv3ow2bdpgwoQJSEtLs2geXVxcpPdsFve5cuVKiTqOZH0aNGiAlStX4ubNm1i5cqVU57ds2QJ3d3dMnDjR4nWeSu7MmTMYOHAgDhw4AHd3d2zatAlxcXF4+vQpcnNzERkZid9//116Zlmf9u3bo2vXroiOjsaxY8ek2cDj4+Ol2S579er13AXp5dGDBw8wcuRILF26FC+88AI+//xzhIeHIzMzE7m5uXjw4AGOHTtW4L3URBVNuQgEK1euLE3mkpSUhCdPnhhcPyMjoyyypVOugamBTUW7PP78889y9yze86hq1arSLZolmVDEkuRyuVRPdE0soO3JkydISkoqi2yVioODA8aPH48rV67g1KlT0oRQa9aswbx58/QeA2q1Gunp6QbTFkJIL3B2cnIyOk+asi3pLaVExnBwcMBHH32E0NBQBAUFSRNprF27Fp9//jnP+2bw8OHDAhO06KJp411dXY2+BTczMxNbt25FbGwsPDw88H//938YMmQIXn755RJPCqI9aUxgYKD0cvPQ0FCcPXsWrq6u5eYCZEn7bqaq00KIMumLBQYGYu/evVAoFFi5ciX+n737Dm+qXPwA/s3oDGlpaEtL92AUEFqqUKgCyihYpgwRRRTRq9wLCOr9OUAFUREVQb2gogIyZJeNlKVsZJdRVjfdM03btGma/P4ojS1N23QmkO/nefo8kLw5582hnHO+511z5sxB165dH9heU0T6mEQQtLKy0nVdNGSWM33rqTWVuk4uDVmLrL5sbGzg4eEBALh+/ToyMzObfZ/mztHRUTee9NKlS3XeLJgCR0dHdOjQAUDdXR5LS0sbNN6lpQmFQjz++OP4/fff8dlnnwEAtm7diuvXr+stHxcXh6ysrFq3mZSUhCtXrgAwvIs0UN6NqeLhQMWECERNreJ3fv369fj0008BANu2bavxd54arq7Jc8rKynDjxg0A5ZOoGTrbeG5urq67Z1hYWI0zuhYVFdU5YdX9k8ZERUWhpKREN0lM3759TWYCn+a6dysrK6txXWSgfPzmnTt3DK9oA5SVleHatWsAgJ49e2LgwIE1jsOvz5ADIlNjEkHQ2tpaN6PhhQsXah2rVVJS0uQ3ZW3atNHNYFhb0CssLDSoH3hjWVpa6pYdOHnyJI4dO1brSZEaz8XFBY8++iiA8qm7719ewhS1bdsWnTt3BgCcPXu21hnuEhMTce7cuZaqWqNZWVlh9OjReOSRR5Camlrjk+bU1FT8/fffNf7/KCkpwe7duwGUz2pXEZwN4evrq5vq/dChQ83Somptba2b7TU7O/uBeABBzcPKygqjRo2q83fe1FR+cGlIi5sxRUVF1XrTnpiYiCNHjgAAgoKCDG4RVCgUumVjRCJRjYEhPT0dV69erXN7/v7+GDhwIBQKBU6dOoXU1FScP38eUqkUI0aMMJkJ3Srfu128eLFR926Vz4V37typdRmeGzdu6J1V1VCV7/lq6oatUql074lEohpbdpvjnpSoJZlEEATKp0Lu1asXUlNTsWLFCr2tF1qtFseOHcPmzZubdN/29va6JRr27dund0kArVaLHTt2YOvWrU2675o8/vjjGDFiBABgzpw5OHLkSK1hUC6XN2gqcipnZWWFMWPGwNXVFZcvX8Z7772nm0VUH41G0+RTi9eXVCrVLY0QERGBn376Se/vQGFhIZYtW9YirdmGKiws1HV5qkliYiLi4+Ph6upa6wD71atX657iV6bVarF161asXLkSADBgwIB6zZzq4OCAMWPGAAD27NmD+fPn19qqqlarIZfLDd4+UP70v+Km7tq1a3V28aUHlyG/80lJSQb9zpsSoVCo6yp35cqVOr+jMd2+fRu//PILCgsLq71XWFiIr7/+GmfOnIFUKkV4eLjBXQCdnZ11E6HcuXMH+fn5tW6/LlZWVhgxYgSkUilOnz6Nw4cP4+TJk+jZs6feNVON6cknn9Tdu/3888813rsdP34cW7ZsqXE7AoFA90Choru0vnue9PR0fPfdd43q4SIWi3X/tufOndPbE8zGxka3HFVSUpLe+wGtVott27Zh1apVDa4LkbGZTBD09vbGK6+8AqB8yYSJEyfi0KFDyMzMRHZ2Nq5evYpPPvkEzz77bJMvbuvs7IynnnoKALBjxw5MnTq1yr7//vtvzJgxA6+//jr8/f1bZGFuZ2dnzJ49G15eXkhISMC4ceMwa9YsnDhxApmZmcjMzMTZs2exZs0ajB49GhMmTKj3TWhLWrduHQQCAQQCAdatW2fs6ujVp08fzJw5E0D578HQoUOxdOlSREdHIzs7G3fv3sWff/6JRYsWoU+fPvj++++NXGPg6aefxrhx4wAAn376KWbNmoWoqChkZ2cjPT0dO3fuxJgxY7Bnz55a1+esTXZ2NoYMGQKBQIAhQ4Y0yY3e3bt3MXToULz44ovYuXMn7t69i+zsbN1x/uWXXzBjxgwoFIpau1q5uroiMTERo0ePxjfffIO4uDhkZ2fjzp07+OSTTzB9+nQoFAr06tULkyZNqvd066NGjcK0adMAlI/dCg8Px+rVq3X7iYuLw4EDBzB37lx07dpV1/pYHz179oRUKkV0dDTmzp2LS5cu6Y5DTbML3k+pVOL111+HQCBAYGCgwZ+jlnP37l2Eh4dj8uTJ2LVrV7Xf+V9//RUzZ86EQqHA4MGDa/ydNzWVW4UOHTqEefPm4c6dO7r/H4ZOr5+dnY2hQ4dCJBJh6NChzRIofX19sXbtWowdOxa7du1Ceno6srOzcfz4cbz22mtYvnw5AODFF19E7969Dd6unZ2d7hisWbOmyjHIzMzEH3/8gbFjx2Lt2rUGj1MOCgrCgAEDcPHiRXz11VcAgKFDhzb4/ufEiRMQiUQQiURYsGBBg7ahj7e3N6ZMmQIA+OWXX/D888/j8OHDVe7dFixYgAkTJtRZ94p1pBUKBWbMmIFFixbpzrV3797F2rVrMXLkSFy+fLnB1zOg6pqey5Ytw88//6z7Xbhy5YouZFY+N//3v//F0aNHdf9no6KiMHPmTLzxxhtwcnIyuBsxkakxieUjgPKnQS+++CJyc3OxYMEC7N69W+9N1bRp0xAWFoaRI0c22b5FIhGmTp2K6OhorFmzpsZ9T5o0CW+99RbefPPNZh2nWKFfv37YsGEDZsyYgbNnz2Lp0qVYunSp3rIVLUOmSKvV6rqMuLq6muwNjlgsxltvvQU7OzvMmTMHV65cwZtvvllj+fDw8BasnX4ODg748ssvoVarERERge+//75aQJXJZPjf//4HtVqNSZMm1XsfmZmZSElJAVC+DlJTXfBUKhXWrFmDNWvW1Fhm9OjR+Pjjj2tcnyo0NBQvv/wy3n//fcyePRuzZ8+uVqZ79+745ptvGjTdukQiwaJFiyCTybB06VLddP9NKSQkBJMmTcKyZcsQERGBiIgI3Xvz5883aDbggoICXXfm9u3bN/nDMmoaKpUKa9euxdq1a2ssM2rUKHz00Ud1rslmSsLDwzFixAjs3LkTK1aswIoVK3TvrVmzRteyUpvMzEzddbUpzzOVvfbaa7C1tcUHH3yAyMhIvWVeeOEFzJ07t16zLItEIkybNg1RUVHYuXMnlixZgiVLllQpI5VK8emnn8LX1xfDhg2rc5utW7fG448/ju3btyM1NRXt27fHgAEDGrwYeeUusY0JUfcTCASYNGkScnNz8emnn2LPnj16l8944403EBYWppsUSZ8OHTpg7ty5eOutt5CQkID3338f77//fpUyXl5e+Prrr5GZmYk33nijQXWWSCSYPHky/vzzTyQkJGDatGm6B37du3fH77//jo4dO6Jv3754//338d577+HAgQM4cOBAtW298MILmD17NmbNmlVrd1YiU2UyLYJAeXeId955B8eOHcOMGTN007DLZDKMGzcO+/btw+LFixu87lptnJycsGLFCmzbtg3jx4/XXbi8vLwwfvx47Nu3DytWrIC3t3eLLOZbISQkBEeOHMHvv/9epV5A+bpEEyZMwLp16/Dbb781y3FpCkqlUtetYuDAgfUap9XSxGIx3njjDVy8eBFffPEFBgwYUOWGJCQkBDNmzMCRI0fw9ttvG7Gm//Dy8sKaNWuwbt06DBs2TLdeYFBQEObMmYPz589jwoQJuslw6isjI0M32crQoUObZMa0Dh06YOPGjfjiiy8QFhZWZY3Djh074qWXXkJkZCR+//33Wm8iK1r7Dh06hO+++67Kwu/9+vXDd999h0OHDtXr6f79JBIJ5s+fjzNnzmDOnDm6cYNA+c3dE088gTlz5uDvv//Gs88+26Dtf/XVV1i1apWu/lKpFAMGDDB4KYqKFmCg/P+Yvb19vetBzatDhw74/fffsXDhQgwePLja7/zkyZOxf/9+rF+/3qDgZEratm2LVatW4auvvkJQUBCA8ut2eHi4rrtfXZrjPHO/kpISTJs2DadOncKsWbOq3GOMHTsWe/fuxU8//QQnJ6d6b7tt27ZYu3Yt/ve//1U5DwUFBWHWrFk4deoUpk2bhvbt2yM4OLjO7VWeNAYo77Hi5+dX73oB5Q9jK4Jgv379DNp/fVhZWeHtt9/GX3/9henTp+s9rl9//XWda9kKBAKMHj0ahw8fxgcffFDlXBsSEoL58+fjzz//xOjRoxvdM6tfv37Yt28fXn31Vd3/t44dO6J3796686dYLMbbb7+NQ4cOYezYsbr6e3l5Ydy4cbrfl44dO+rG6xM9cLR6xMTE6HvZZPz1119aANru3btrb9y4YezqUB2Sk5O1/fv31wLQ/vzzz8auDtXTDz/8oAWgHThwoDYlJcXY1dFqtVrt/PnztQC0YWFh2qysLGNXx+giIyO1ALQBAQHaq1evGrs6RmfINSwmJkZbVlbGHxP5Wb58uRaAdsCAAdq7d+822XYzMjK0gwcP1gLQzps3z+jfsz4/UVFR2oCAAC0A7ZYtWxq8nby8PO0LL7ygBaCdM2eOVqVSGeX7HDlyRHfvdv36daMfX/7w50H+aaqsZlItgoaqWOdNLBbXe8wPtbzExEScP38evXr10o3FpAdDcXExoqKiADRufAo1r4oZYQcNGgR/f38j14aofnie0e/EiROIjo5Gr169EBgY2ODtpKenIzo6Gq6urggPDzfafVPFeFHeuxGZjgcuCCqVSpw8eRIA4OPj06AuHNSyLl++rJsAwdPT09jVoXrIycnB9evXERAQgLCwsAaPT6Hmo1AoEB0dbXJTyxMZqvJ5ZvDgwTzPoLyr7N69ewGUP+BpzLUzPj4e58+fx+DBg9GlS5emqmK9VL538/b25r0bkYkwqSCYmpoKjUZT4/sajQZbt27F+vXrAQC9e/eGnZ1dS1WPGkClUuHmzZvw8vLCiBEj+BTwAZOamoqbN2/i6aefZkuTicrJyUFMTAyGDBmim7mQ6EGSmpqKW7duYejQoTzPoHwpmlWrVmHXrl0ICAjAmDFjGnXtvHr1KqRSKUaNGtUskxAZcu+2bds2/P777wB470ZkSkxm1lCgfNmIPXv2IDw8HCEhIfD399edLGJiYrBmzRqsXr0aCoUCoaGheOaZZ/jk0MRZWlpi8eLFWLx4sbGrQg0QHBysmzGUTJOXlxdOnDhh7GoQNVhwcLBZr6GpVCpRWFgIgUCA3Nxc/PTTT/jpp58AAC+99FKjW/HefPPNWmfAbqxffvkFe/fuxdNPP42QkBD4+flVuXdbu3YtfvvtN9292+jRo3nvRmQiTCoIAsCZM2fqXHA1NDQU3377Lby9vVuoVkRERERNLzExEc899xwuX75c5fUZM2bgjTfeeCB60hh677ZkyRLeuxGZEJMKgrNnz0avXr1w8OBBnDt3DpcvX0ZOTg6A8ml9g4KCMHLkSAwfPvyBWmOJiIiISB8LCwu4ubnh8uXLkEql6NOnD6ZOnYrw8PAHYszvrFmzqty7RUVFVbl3CwwMxMiRIzFs2DDeuxGZGIFWq9Xe/2JsbCx8fX2NUR8iIqJGMeQaFhsby5YJIiJ6IMXHxzdJVjOpyWKIiIiIiIio+TEIEhERERERmRkGQSIiIiIiIjPDIEhERERERGRmGASJiIiIiIjMDIMgERERERGRmWEQJCIiIiIiMjMMgkRERERERGbmoQyCO3fuRKdOnfD6668jPz/f2NUhIiIiIiIyKS0aBLOzszFkyBAIBAL8+9//RnFxcZPvQ6lUYu/evbh58ybWr1+P69evN/k+Hjbr1q2DQCCAnZ0dTp8+bezqEBERERFRM2vRICgUCiEWiwEALi4usLa2bvJ9WFtbIyAgAADQrVs3uLi4VCujUqkwe/ZsvP7661AqlU1ehwdNxb+Jr68vHBwcjFwbIiIiIiJqbuKW3Jm1tTXc3d2bdR8VrY0DBgyAs7MznJ2dq5XJysrCxYsX0bFjx2aty4Oiuf9NiIiIiIjItBhtjKCvr2+zbVssFqNr1656QyAAXLt2DX/++Wez7f9B5eLiAkdHR2NXg4iIiIiImlmLBkEbGxu4ubm15C6r0Wg0OHXqlFHrYGocHR3RvXt3Y1eDiIiIiIhaiNFaBGtqrdNqtYiOjsZbb72FTp06QSAQwNvbGy+99BL++usvaDQa5ObmYtiwYQgMDMTNmzerbeOTTz6BQCDAkCFDkJ2dDQBQq9XYt28f+vfvj48++ggA8OOPP8LW1hYCgUD3s27dumrby8/Px549e/Dyyy+jR48eurI9evTAW2+9hejoaGi1Wr3f5+bNmwgMDERoaCgSEhIAAJmZmVi4cKHu+/Xu3RsxMTEA/plQp127djh//jwAoLCwEMuXL0dISAgEAgHatGmDv//+u9q+KkLuq6++qtt2mzZtMH78eGzbtq3O8ZDOzs6wtLSstQwRETWNwsJCyOVyaDSaRm9LpVIhLy8PKpWqCWpmGrRaLRQKBRQKRY3XWEOp1WrI5fJmmaSupahUKsjlcqjV6np9rim/e0O31Zg6NOX/EyKqqkXHCAKAl5cXAMDW1rbae2q1Gj/88APef/99KBQK3esJCQlYvXo1Vq9ejenTp2Pq1KnIzc2t137lcjmWLl2KY8eO1etzR48exejRo5GTk1PtvYsXL+LixYtYsWIFfvjhBzz33HMQCAR6t1NYWIji4mKcOnUKb7zxBi5fvqx7z9raGjY2NlXKp6amori4GLdv38Z//vMfREZG6t5r06ZNtYl2cnJyMHfuXCxbtqza65s3b8bmzZsxePBgfP/992jfvn2VMjKZDE5OTrC1tdVNHENERA2n1WqRlpaG6Oho5OXlwcrKCgEBAfD29oZQWP4Mdu/evUhPT8f48eNrfDham+joaBw9ehRhYWHIz8/H/v370b9/fzz22GM1fiYvLw/r169HYWGh7jWJRIKJEyeidevWAICoqChcvHgRzz77bLNM6gaUXxNLS0urvS4QCCCRSCAWi1FSUoJt27ZBrVZjwoQJkEgkDd7f3bt3sX37dnTs2BFDhw5tTNX1ksvl2LZtG4qKiuosK5PJMHLkSL33QfeLjo7G4cOH8cQTTwAADh48iOHDh1e7jtemKb97Q7fVmDo09v8JEdWsxe/6RSIRXF1dq11ctFotNm3apAuBjz32GN577z306dMHAHD58mWsWrUK3333HY4fP460tLR6nRDatGmDP/74A0qlErNmzcKPP/6If/3rX/jmm2+qhbDK2rdvjx49esDa2hrPPfcc+vbtqyt/7do1fPrpp4iMjMSCBQvQvXt3dOnSRe92YmNjceLECfz000+IjY3Fc889h3HjxsHBwQGZmZmws7Or9pmzZ8/i6NGjiIyMxLBhwzB+/Hh4eHggOzu7yncvLCzUhcCOHTviX//6F0aNGgU7OzsolUrs378fX375JSIjI/HOO+/gxx9/RNu2bXWfFwqFEIlEsLW1hUgkMviYEhFRdVqtFkeOHMHFixfh6ekJX19fJCcnY8eOHXB0dMS4ceMMDlgnTpzApUuXqr1eEQxqClT6VITATp064amnntK9fvjwYaxfv75KGDTUqVOnkJqaWme5Dh06oGvXrrq/7927F/Hx8dXKiUSiegedChXfTyaTYdy4cQZdz+Lj47F9+/Y6j6FMJqs1jEqlUjzzzDMoLi7Gnj17oNFo8PTTT8PW1hYlJSXYs2cPrK2tMWTIEIhEIt2/v0qlwokTJ6o93HZ1dUXv3r1RWlqKoqIilJSUwMrKSu++r169iiNHjqC4uBgCgQA+Pj4IDw+vV4ivqR5A+bwLvXv3hpOTk97PJiUlYd++fXqPYUXorc399W/fvj3Cw8P5YJqoBbT4/7Lnn38ezz//fLXXExISsGzZMigUCowcObJaWBk8eDCeeuopPPnkk3jttdcA1Ny9tCm5uLhgx44dsLGxqdba17dvX7Ru3RpJSUmIjo7G8ePHawyCCoUCc+bMgbOzM/bt24c+ffrU2HpYYdGiRbC0tMSmTZswZswY3VPk+23fvh3Lli2Dl5cXfvzxR/Tr16/K+6+88gqCgoLwwgsvYMeOHejbty9mzZql239FSCYiosbLzc1FdHQ0/P39dTe0wcHBOHv2LP7880/cunUL3bp1M2hbJSUl0Gg0GDZsGBwcHJCSkoLIyMhag0FNEhMTIZFIdA9YK/To0QMxMTHIy8urdxBs27ZtrYEjNzcXly5dgo2NTZUgOG7cuGplo6KicPDgwXrtv6l06tRJF671EQgEtT40FgqFsLe3h5WVFUQiEbRaLezt7SGRSFBcXAyRSKQrUzmgikQitGvXTnfclUolzp49C5VKhZ49e9ZZ79u3b+PAgQNwdnZG3759kZiYiNPzCz4cAAAgAElEQVSnT2P37t0YM2ZMnfcZNdWj8vbj4+MREBBQYxAsKytDUVER/Pz8qh1DgUBQ6+9HRf1dXV0RGhqKuLg4nD17Fnv27MGIESMMrj8RNYzJPG45ceIETpw4AalUiunTp1cJgRXEYjHGjh2Lffv2ISIiokXqJRAIau2+4ePjg0cffRTR0dHIyMiodVsFBQVYvnw5QkNDDdp3amoqlixZgrFjx9Z4MpTL5di+fTsAYMaMGejbt6/ect27d8eoUaN03UxefvllrhlIRNQMKm76K3cT1Gq1UCqVEIvF9W7pqOgu2bp1a+Tl5TW4Xp6enjh+/DhOnjxZpUXwwoULKC0trXcIBOqeATw+Ph5RUVH13m5TiIqKwv79+w0qKxaLG/T9G0skElVZyiovL09vC7A+ZWVluHDhAqytrTF48GA4OTnB3d0dWVlZiIuLQ0JCAry9vRtUjwppaWkQiUS1huAK9T2Gles/YMAAXf1zc3ORkJCA1NRUtGvXzuDtEVH9mUQQVKlUuolRQkNDa53B0sHBAU888USLBcG6iMVig/r5A8CoUaOqXHzr0r9/f4wbN67WJ2IJCQm68YaPPvpojWVFIhE6deoEoLyvfkZGBoMgEVEzsLe3R3BwsG44QNu2bVFQUICsrCy0b9++SZdPKisr0z0MrEvr1q0xceJErF+/XnfNBcp710yZMqXZxgMCqHa9OXz4cJU6VGiK4QkVXSm7deuma3mt6AJakxs3biA2NrbG97t06YL+/fvX+H5xcTE2btxY5YHw/WP2AWDx4sV1djM1VEFBAXJycuDs7AyZTAag/KFB586dERMTg7S0NIODoD7FxcXIyMhAq1atYG9v36i66lNRf5lMVqX+fn5+uH37NoMgUQswiSCoVCqRlJQEoHwymbpOji19YlCr1bh48SKOHj2Kc+fOIScnB/n5+Th9+nS9thMQEACpVGpw+c6dO+tOjjVJT0/H7du3AaBal1AiIjKOnj17IjAwEHFxcSgqKoJIJIKHhwdat27dpN3dRCIRBg4cCKVSiaNHj9ZZvnXr1pg2bVqT7b8uBQUFUKvVegOejY1Nk04AkpmZieLiYmg0GhQUFBj8kBYA3Nzcah2XWFcQsra2xuTJkw3eX4X7x+ap1WqUlJToZguvbbbv/Px8qFSqauP7LSwsIBQK6z2p3v1SUlKQk5OD9u3bG3Qs9YXp+wN0dnY2Ll68CAsLCzg4OKCsrAx2dnZV6t+qVSuIxeIqLepqtRo3btxAcnIynJ2djb4UGdHDwiSCoFqt1s0S6ubmVmcXBHd395aolm7A/7vvvouzZ89Wez8oKAht2rTB7du3dUtD1MbT07Ne+3dxcanzCW1d3VGJiKjlZGZm4tSpU3qn+D937hyUSiXUajV69Ohh8DYrgo2lpaXeWSkN6bZnaDdJb29vvV0EG0qj0dR76Qe1Wo3i4uIax8XXJDY2FmVlZVAqlUhISIBYLNZdm3Nzc2tdfkAqlSIoKKhe+6tQ22QpNRGLxQgLC4OLiwsSExNRXFyMoKAgWFhY6IKXv78/rl27VuO/m1AobLYxdCqVCqdPn4ZYLEZQUJBBLbX+/v7VxghaWFhU+XtxcTHi4uJgaWlZ5+9t5c9WzMKblZWFsrIyBkGiJmISQdBUbdy4Ea+99hoUCgXCwsIwbdo0hIaGQiaT6U6+lWchNaZHHnkEmzZt0nX/JCKillfRGlNBJBIhPj4erq6u6NGjB1xcXCCRSNCqVSts2bKlzu1VTD6yb9++Kvu4/wa7LpW7SQL/zLD5+OOPV5u4pinH9CkUCohEIr1jx0pKSrB79+4qrV4qlQpqtRoymQyjRo0yeD8VvWPc3d2hVCpx+fJlSCQSxMXF6fZVWyCtaKmqiYWFBTp06KB3rV1XV1c8++yz9Q68tra2unAqFovRpUuXenUXbdWqFSwsLCCXy1FWVqYLa0qlEmVlZQ0e/qHVanH8+HGkpKSgR48eBvfCMmSMoJubm275iPz8fL31z8/PR1lZWZUH4RYWFujfvz+XjyBqYiYRBMVisa7LZFpaGoqLi2ttCTNknZ7GysrKwurVq2ucxdRUVBy3K1euICMjg0GQiMiIWrdujWHDhun+npeXh+TkZEilUgQGBlZZbiErK6vO7YWGhtY4wVhzTcJyf2hsjPz8fL2TjXTs2LFaUHFyctKFm4rZNg2hVqtx7NgxlJWVISQkBEqlEvv27UNUVBTGjh0LsVhc4xhBiUQCX19fqNVqXWjUx9LSEu7u7nqDoFgshr29PWJjYyGXy+usb+WujY1Z5N3Ozg5OTk5ITU1FZmYmXFxcoNVqcevWLVhaWsLDw6Pe29RoNPjzzz9x4cIFeHp6GjTDeUNJpVK0adOmSv3VajVu3boFKysruLq6Nst+iegfJhEEraysdE95EhISoFQqaw2ChqxZ1FgpKSmIiYkBADzzzDM1hsCCggJdOWNwc3ODq6srUlNTcf78+RpnDSUiopZTcW24Pzh069YNAQEBAIA//vjDoDAIVF08vjETgADA5s2bdWv47d+/X2/XQ2dn50YvKK/RaGBpaQlHR0e0atWqyntubm5wcnLCrVu3YGtr2+AJdIqKirB7924kJiaid+/eumOTlpaGCxcuYPPmzbWuY+fk5IQRI0Y0aN/3S09Pr/X+pKSkBCkpKejcuXO1ro3FxcW4cuUKioqKkJeXh5KSEgCAn59fjdsTCATo2bMnIiIisHv3bjz55JO4efMm7ty5g65du9b74XV2djYiIyORnJwMLy+veq9FWLlVVaPRIC0tDQqFAiUlJQgODja4/gkJCejWrRscHR3rVX8iqj+TCILW1ta68RIXLlzA7du3a1w/p6SkRO9MY/XZl4uLC4Dyk5ZKpdLbT12hUOgmYamtb3xcXByuXbvW4Po0lq+vL0JCQhAREYFDhw7hueee030/IiIyjqysLBw5cgTt27fH888/r1syonLXv1atWqGoqMigFpfS0tJqi8dXbrlLTEyEn5+fwbM7BgcH12sW64YQCoUYMGBAje8XFRXh6NGjkMlk8PLyqnattbCwQEhICEpLS2vsCnvz5k2kpqYiODgYvXr10h3L/v37QywW4+bNm42eNMVQQUFBupCvT0pKCtLT06u8JhQK4enpidzcXKSkpAAob2GsmFiosLCw1n16enpi9OjROHjwICIiImBjY4MePXqgd+/e9Vqm5Pr169i/fz+EQiEef/xxPProowZ/XiQSwdbWFnK5HCdPnoRMJtOtcenu7g6ZTKa3JbWm+j/22GMICQlpkhlkiah2JhEEAeCpp55Cr169cObMGaxYsULvDJtarRbHjh3D5s2bG7wfgUCgO0Fdu3YNd+/e1XvhbNu2LYKDg3H+/Hlcv34darW62kkxPT0dn332WYu0UNbEwcEBY8aMQUREBPbs2YP58+fjiy++qHF2UrVajcLCwmaZCpqIiKqqWERcn8pdSBvL09Oz3hOSNUZFV8v6TJAiEokwfPjwWmfnvL98XRPXBAYGolOnTrC2tq4SqIVCIfr27avrJVPRAlqhpKQE27dvN7hFtkJty0icPHkSly9fhpubW40hytPTs8rC7JaWlnjyySdr3J8h3X89PT0xZcqUOsvVxt/fHwUFBejQoUO911P08PDAa6+9VmuZ+49/ZU1RfyJqGJMJgt7e3njllVdw5swZ/Pzzz0hLS8Obb76Jbt26QSgUIjU1Fdu2bcPSpUvh5eXVqPDVs2dPSKVSREdHY+7cufjwww/h4eEBpVKJwsJCdOzYEa6urnjkkUdw/vx5fPfdd7Czs8Pzzz8PGxsbqNVqHDp0CEuWLEFMTAw8PDx0y18Yw6hRozBt2jQsW7YMy5cvx9WrV/HKK6+gb9++sLOzQ35+Pu7cuYOjR49i8+bNmDt3Lp5//nmj1ZeIyFyoVKo6F4G3tbWtscXkfoWFhbVur2J8XXPz9vbGm2++2STbUqvVyMvLq7EFSCAQQCKR6A1XAoHAoFlT7ycWixEYGFjvOQfqeoj6oE5qYmlpWWNPLCJ6eJlMEBQIBHjxxReRm5uLBQsWYPfu3di9e3e1ctOmTUNYWFitff7rEhISgkmTJmHZsmWIiIiosjj9/PnzMXfuXEgkEvz3v/9FdHQ0zpw5g3fffRfvvvtule14eXlhxYoVyMzMxOuvv97g+jSWRCLBokWLIJPJsHTpUhw7dgzHjh0zWn2IiMxdRXe5u3fvYt26dbWWDQ0NRWBgYK1lLCwsYGVlhRMnTuDEiRM1lmvXrh1GjBhRZ7e68+fP1znMIiwsrMkmjdGnIsTJ5XJs2LChxnJisRiDBw+Gj49Pk+3bkNbGhlAqlVi9enWtZeqzfqK7uzsGDhwIZ2dnZGdnN1U1iYgAmFAQBMonjXnnnXcQFhaGX3/9Ffv378fNmzchk8kwYMAATJkyBU8++STOnTvXqP1IJBJ89dVX6NmzJ1auXIm//voLUqkUPXv2rHJhCAgIwK5du/DLL79g06ZNukHQISEhCA8Px4svvghPT0+cPn26XgvFNweJRIL58+dj4sSJWL9+PQ4ePKhb8L5itrp+/fphxIgRDV4riYiIDGNId7n6CAgIqHX8WX2MGzeuSbbTWPb29nj55ZdbZF/u7u54+eWX6zVurr6eeuqpJh93KZPJIJPJAJRPbOPp6WnQ4u6VNeV3b+i2GlOHp59+Gmq1ukVauonMjUCrZ+Gb2NjYBs/g1RKOHj2Kfv36oXv37ti4cWOzPNUjIqIHkyHXsNjY2EbPvklERGQM8fHxTZLVhHUXMT0Vg47FYjFnlSIiIiIiIqqnBy4IKpVKnDx5EgDg4+NTZfYtIiIiIiIiqptJBcHU1FRoNJoa39doNNi6dSvWr18PAOjduzfs7OxaqnpEREREREQPBZOaLObnn3/Gnj17EB4ejpCQEPj7++uCXkxMDNasWYPVq1dDoVAgNDQUzzzzjEEL8RIREREREdE/TCoIAsCZM2dw5syZWsuEhobi22+/5UB/IiIiIiKiBjCpIDh79mz06tULBw8exLlz53D58mXk5OQAADp27IigoCCMHDkSw4cP5zTCREREREREDWRSQVAikWDw4MEYPHiwsatCRERERET00DKpyWKIiIiIiIio+TEIEhERERERmRkGQSIiIiIiIjPDIEhERERERGRmGASJiIiIiIjMDIMgERERERGRmWEQJCIiIiIiMjMMgkRERERERGaGQZCIiIiIiMjMMAgSERERERGZGQZBIiIiIiIiM8MgSEREREREZGYYBImIiIiIiMwMgyAREREREZGZYRAkIiIiIiIyMwyCREREREREZoZBkIiIiIiIyMwwCBIREREREZkZBkEiIiIiIiIzwyBIRERERERkZhgEiYiIiIiIzAyDIBERERERkZlhECQiIiIiIjIzDIJERERERERmhkGQiIiIiIjIzDAIEhERERERmRkGQSIiIiIiIjPDIEhERERERGRmGASJiIiIiIjMDIMgERERERGRmWEQJCIiIiIiMjMMgkRERERERGaGQZCIiIiIiMjMMAgSERERERGZGQZBIiIiIiIiM8MgSEREREREZGYYBImIiIiIiMwMgyAREREREZGZYRAkIiIiIiIyMwyCREREREREZoZBkIiIiIiIyMwwCBIREREREZkZBkEiIiIiIiIzwyBIRERERERkZhgEiYiIiIj0KCoqglwuh0ajqdfntFotFAoFFAoFtFptM9WubqWlpcjNzUVpaanR6mAoUzjWarUacrkcxcXFLfI5Y2MQJCIiIiKzUlxcDLlcDrVarXtNX2j6+eefMXPmTGRmZlb5vFarRWZmJs6ePYtr165VC1olJSX44osvMG/ePBQVFRlcr9LSUuzcuRM7d+6sNbxV1LWmn4p9RkVFYcKECTh9+rTBdWhqpnqs9UlMTMSrr76Kbdu2tcjnjE1s7AoQET34cnD16AWkqfS8Ze+HgY/5/PN3jRxxl68jIbcQag0AoRjSth3QNaAdJAY/mlPh9umjSFC3Q6/HO0Oqr0j8WRy8I9fzhiVcevRFV1mlKhUk4OqVOGQVqqEBILSyh4tfV3RuZ3PfZ9XIuHURt5PlUJYBEIghkXmhc3cf2N9Xd3XGbVy8lQR5cfmTXbHEEV6du8Hn/oJEREbwxx9/YNWqVVi4cCE6deoEoDw0vf/++5gzZw6eeOKJGj+bk5ODRYsW4cqVK3B2dkZRUREKCgrw+uuvY9iwYRAIBA2ul1qtxqlTp6BQKNC/f39YWFjoLVdR15oMHDgQs2fPbnA9KktLS4OLi0uDP28Kxzo2Nhbvvvsu5HJ918Xaj1dRUREiIiKQn59f7T03NzcMHTrUoDqYIgZBIqKmYusMn7aS+15zrPSXHFw/cQEpJWJI2nrBw1YITVEGklOv40xRCXo/5oP7o5deijhkFAA2bh76Q6COGPbuHpBZ3PeabaW/FsXh/NkYyGEDR3cPSC3UkCcnIeX6WWgsHkdXp4rgpkHWtZOISlVBbOcCrzY2QFEGktNjcP48qtRdk3kVJ6PSoLKQwsXTETYoREZKBmIunAd6PQafyvsnInqAlJWVYfXq1UhMTMRnn32Gbt26obS0FGvXrsX333+P77//vkr5Rx55pF7bj4+Px61bt1BUVIRbt27h0Ucf1VsuODgY+/fvB/BPyBk1ahQmTpzYsC9mgpryWPv6+uK3337DggULUFxcjHnz5uHGjRv45JNPsHDhQhQXF+Onn36CXC6HUqms8lmxWIwuXbpU6fZZWlqKDRs2IC4uDgMHDmzaL96CGASJiBpNAaUKsGzjDj8/WY2lNPExSCkRQurXC718KmKTH9ylZ3HqThyik7zQw6PuFjPF3SwoIYGXT80xMKdICUACx05+8KmxFJARkwB5mSVcuvf+J/T52CPq2FWk3bwBL6d7LY7FcYhJVUFo54dePStCnx/crU/hRELluqsQF5sGlVAKv8d66UKfn/ttnDqZgLjoJHgFe3BcAhEZnVKpxIYNG9C2bVsAQHp6OgCgoKAAubm5AACVqmpXj/z8fFy7dg2DBg1C165dIRAIYGlpifDwcBw9ehShoaF49dVXUVxcrAsdhkpOTsaSJUvg6+sLAFi8eDHmz58Pf3//Wj9XUFAApVKJ5ORklJWVQalU4saNG1Cr1bhz547B+29Opnas7+fk5ISgoCCkpaVV60ZraWmJwMDAKq/J5XKsXbsWrq6usLKyavB+jY1BkIio0e4NbK+jh0pGfiEACZy9qrb72Xj7wDnxEtLSkwAPrzr2lYOETCUg9YGXdS3F7o2Xrz1w5SAjVw3YesDLqVJJoQvcHW8hIzUXKQqgoxTQpOVAASFk7aq2Wtr4ucA+IQZ5mcmAhwegSUaOAhDK2lVt+bP1g4t9AmLkmUiGBzzq+JZERM3NxsYGgYGBum6Pd+7cwalTp7BkyZIq5VxdXXV/1mq10Gq1EIlEEIlEutctLCwgEokgFotRVlZWr3oUFRUhMjISv/32G7y9vTFr1izY2tpi8eLFmDlzJiZOnIgRI0ZAKq3+8K+srAzHjx+HSqXCxYsXkZKSAmtra0RFRaGkpEQXuIzNVI51Tdzc3ODm5obY2FhYWlrWWT41NRXp6ekYOnRolbo9aBgEiYgaK1cJJQAb25pbAwGgRKUGINSTzmSQWAMoUiAHQK1bSb+LLBUgbeeB2i5VCqUKsJTV0XVUDqUKELe2r1ZOJrUBUuXIzwUgBfIKlQBsIHW8r6DQHhIrQF54r+55heXHQtr2/oKwl1gC8gIocgE41FoxIqIW0alTJ924tYrxeJXHrX377be4cOGCrnyrVq3g5+eHI0eOICwsDG3btoVWq8WxY8eQkpKCXbt24cSJE7oJTjp06FDjvouLi7FkyRIcO3YMbdq0weTJkzFo0CDY2trq6nHixAmsXLkSa9euRXBwMN555x3Y29vrtnHu3DlERkZizJgxuHTpEpYuXYoPP/wQU6ZMAQCcP38ep06datqD1kDGPNZ12b59O5YvX25QWa1Wi+PHj8PS0hLdunWr8l5sbCxOnz4NqVSKTp06mXxIZBAkImosbXmLoDz2MA7eudc6KBRD4uCBjo/4QXbvTCuT2gB5hVCkaQCXSmmwKAEZBTDojJyWngO1UIZ2vrU/sdRoAagycOnQwfI/AxBa28PFpzM6uUnKs+i9ACsU6dlWKxtYQq5r7FQoVQBsIK7WCimDjTUA5b2CBUqoANhYVN+mzNYGgFJXHyKiB42lpSUmTpyIBQsW4NVXX0Xv3r2RmZmJmzdvYvTo0Rg9ejTEYjFUKhUWL15ca4uVtbU1Jk2ahOeffx6urq4Qi6teBCwtLfHkk0+if//+yMrKglwuh52dHQBAo9Hgr7/+wnfffYd+/fph4sSJGDhwID766CP8+9//xvTp02scX/igaMpjXVRUBIVCgdLSUmRnZ+Ps2bO4e/cuSktLsW/fPtjb22Pt2rVQKBR49913a61XfHw8Dh8+jL59+8LT07PKe1euXEF8fDx8fX3h4+OjC/WmikGQiKixWvvA3w1QWNrcO6lqoMzLQFZ2HC4cV6Bj30B4CAGplzvsU24jI/oMogp94O4sRGFqGu6m5KHEkIeGmiSkZKkhtHeCWx2D7Dz8fVCYooGN9b2CpYXIyshASvQpyAt7oXcHqS7A1kZZWN5GWWd4UykhByCrc5MqKPNRR7MnEVHzUyqVmDlzZr0/5+3tjf/973+4evUqLl26hB49euA///kPvL29IRSWn3OLi4thYWFRZ9dFNze3OvcnEAjg5OQEJycnAOUhcPXq1diyZQtGjx6NiRMnwtbWFq1atcKyZcuwceNGxMTEoEePHvX+bs3F2Mf6xIkT2LhxIwBAJBJh7dq1kMlkGDZsGCwtLdG+fXuDWu+KioqwcuVK2NraYuTIkdXC+8iRIx+oCXsYBImIGksoQbuArve92B7KuDM4FZOFxNsKeHSUAtZeCO6hQdT1BGTFXUVGHCC0kMK5gz+kd64jTWwB/ROFl9MkZyJPI4ajW92TrYgd/ND1vu6Xfh2ycPX4JaTdvY2kDj3gYWEBEYDablNsJOWJTSyqY4+WNrAvL1hH3SxhY1dH5YmImtmoUaMwatSoBn/eysoKwcHBCA4OrvH9//u//4NGo4GNjf75oL/99lvs2bOnXvutWOZg0qRJGDduHCQSiW4JhYrF1MeMGQMrKyuIxWL4+Phg3rx58PAw3shsUzjWgwYNwqBBg+rcV1lZGYYMGQJvb+9q7xUUFGDRokW4evUqZs6cCXd39/p9ERPEIEhE1ExsvJwhiVFAocgB7o3CE9r7ILD3/fN4JuDsdUDYyraWMX0aJKTlQGPhjAYv5yR0hIvMEmlpFeP0LGEJoLBMzwKIFV0876U6iZUYgBrqYgBVuofmQFkMQHCvoK0lxADUpSrgvlGM5TOZAsKGL7FFRNSkLl26hAsXLmD48OG6FjdD1LUuXYVHHnkE8+bNg0QiqfbejBkzMGPGjCqvVZ4Bs6bPVWjVqhUA4MaNG1i5ciWuXr0KKysrODg4IDMzE2VlZQgMDMQbb7xhUMtjczPmsa4sNzcXO3fuxJ9//om0tDRoNOVdWVq3bo3HHnsMEydORLt27XTltVot7ty5g6+//ho5OTl4++230bt370atF2kqGASJiJqLqnyBdrFl7VNLa5KyoYAQrZ1quVAXxyFDDli6usO5EVVSazQArGBhAwD3JnopkEMBlyohNEdRPjmM3b1WxfLJYxRQZAGo/BBUI0dhCSCUSct7e8qksEEaFIp0oMrcoBrIC1WAUAYpJ4ohIhMRHx+PnTt3ok+fPnrDydChQ9GnT59q4cLT0xMrVqzQhYj7GTJurSlER0djzpw56NOnD1avXg1Hx39m9MrIyMDSpUsxe/ZsLFy4ULcshbGYwrHOycnBhx9+CKA8iAcEBMDa2hpqtRrJyclYs2YNpk+fjs8//1w3+cyuXbuwfPlydO3aFf/973+NfhybEoMgEVEjaTQa3ViFSq8iKyYVhRBC5lBLdCuKw/k7OdBYtYN3LWsIqpIyoIAN2nkYMrhOA41GiGpVKopDUrYasHaGizUAyODhaIOU5HQk5HRE14pNa9JwN0sFWLdDu4p06O4C2R058lLjoHL30bX1KWPSIIcQMl2I9YCLQwzkeWmIK/aAT0XrYVEM0uSA0MEJxn8uTURkmPbt2+t9XSwWV5m9836GjhFsrJs3b6KsrAzh4eFVQiAAODs745lnnsH777+P5ORkkw8wLXGs4+LicPv2bbz33nsICgqqsg8vLy9MnDgRUVFROHfunC4IPvnkk/Dz80P79u0NWlriQcIgSETUSHnRp3ApVwxHR0dILABAA2VOKtLkKgjt/RBQKeDl3L2NXEghKSuEoiAHqWlyqIRSeHXrVMv8KQrcSS8ErNvBw6DxdQk4/2cC1PaOcGxtUz5mr1SBtLQsKMss4dK1k671T9rRE7K0m0i7fAoaN2dIRGooUpORVSqEvY//P62EQg+0d0vEmaQYnDyngoeDGJriLCSnFgJVQqwQHu3dkPh3EmLOnIXKXQZxmRJZqWkohCXa+XAxeSIyPQqFQrewuT6tWrXSLXlgSnx9faHRaLBlyxbMnDmzylqDGRkZ2LZtG9q0aVNlfT5jM+axdnZ2hrOzM3bs2IGAgADdAvcV9YqMjERxcTH8/Px0r0ulUnTp0qVZ6mNsDIJERI3Uqo0jpLmpyEqOQ0bFUg2WEjj6dEVXP1mVE21hegLiKq5/IktIZD7oWmmJCb3yk5BbDEi8/OtYF7CCIxwd0pCUl4GE3IrlLISwkbZD54BOaNeq8uLxHujRS4SrV24hIzEOGSifwMYloCs6u1V98int2BuPWV7C1fgkxOUBEAhh4+CDbt39qoZYu47o/ZglLl2JQ1Jc+ZgOobUMPt26wY/dQonIhEgkEjg6OuLHH3+stdxrr72Gnj17ttue418AABkcSURBVFCtDPfII49g4cKFWLlyJcaPHw8bGxvIZDLk5OSgpKQEgYGBmDdvXpVgYyymcKw9PDzw+eefY+XKlbq1Fp2dnSGXy6FUKtGhQwd8+OGHJjXjanMSaCumGKokNjbW5JuPiYiI9DHkGhYbG6t3Vjgioqag1WpRUFAAjUYDqVSqZ/hA034OKB+moFAodMMVJBJJteUNHkaNPdZqtbrRx0utVqOwsBAWFhYtsnZgxVqFjfXw/3YQEREREbUggUBQpZtmc38OAIRCYa1j6R5WxjjW96trHKOp4lANIiIiIiIiM8MgSEREREREZGYYBImIiIiIiMwMgyAREREREZGZYRAkIiIiIiIyMwyCREREREREZoZBkIiIiIiIyMwwCBIREREREZkZBkEiIiIiIiIzwyBIRERERERkZhgEiYiIiIiIzAyDIBERERERkZlhECQiIiIiIjIzDIJERERERERmhkGQiIiIiIjIzDAIEhERERERmRkGQSIiIiIiIjPDIEhERERERGRmGASJiIiIiIjMDIMgERERERGRmWEQJCIiIiIiMjMMgkRERERERGaGQZCIiIiIiMjMiGt6Q6FQtGQ9iIgaJCL3DL5J34UcdYGxq0ImQCZuham2/fFv+NZZltc5IiIyZzUGQalU2pL1eKgoFAoev0bg8aP6WHJzN/KkaogsJMauCpkAeZkGP+Uexr8xus6yPM80HM/TjcPj1zg8fo3D4/fgy87ObpLtsGsoET3QsksVEFiIjF0NMhUiAfI0RcauBRERkcljECQiIiIiIjIzDIJERERERERmhkGQiIiIiIjIzDAIEhERERERmRkGQSIiIiIiIjPDIEhERERERGRmGASJiIiIiIjMDIMgERERERGRmWEQJCIiIiIiMjMMgkRERERERGaGQZCIiIiIiMjMMAgSERERERGZGQZBIiIiIiIiM8MgSEREREREZGYYBImIiIgIAFBaWoq9e/eitLTU2FUhombGIEhEREREAIDt27fj22+/xfbt241dFSJqZmJjV4CazqpVq7Bx40ao1epGbUcsFuPZZ5/FSy+91EQ1IyIiarzVq1dj06ZNTXKdGz9+PCZPntxENXs4lJSUICIiAh988AGWL1+OESNGwMrKytjVIqJm8kAGweTkZHzzzTc4ePAgpkyZghkzZhi7SiZh48aN2LRpE6RSaaO2o1AoMH78eAZBIiIjSU5OxpIlS3Do0CG8/PLLmD59urGrZBI2bdqEDRs2NMl1bsKECQyC99m3bx86deqEJ554AkeOHMG+ffswatQoY1eLiJrJAxUEc3JysGzZMuzcuROTJk3Cvn37EBYWxiB4j1qtbvTFEQCkUmmjn7YSEVH95eTkYPny5di1axdeeOEF7NmzB0OHDmUQvIfXueZTWlqKrVu34qOPPgIATJw4EfPmzUN4eDgsLCyMXDvTcP36dSxevBhJSUm1lgsNDcWHH36o970tW7ZgwIABcHBwaI4qEtXLAxEECwsL8euvv2LNmjUYMWIE/vjjD8hkMgCAUqk0cu2IiAxkEYyP24RjqKUFilWX8HX2VuxsyHwMQndMcngOUyV2sC5LwsacDViszK9WzMoqBO/ZBaOrEMhQncbi3PO4809l0EM6AfPsO8BZUISriq2YlXcL1bdiGA/bkfhc9ijaC0uRVLAH7+ZU3hfVpbCwECtXrsTatWsxfPhw7N27l9c5alH79++Hr68v/P39AQD+/v7w9fXF/v37MWzYMCPXzjQsXrwYU6dORUhISIO3UVBQgP/85z/48ccf0apVqyasHVH9mfRkMWq1Gr///jsGDRqEhIQEREREYM6cObqLoz47duzAyJEjceDAgRas6cNp0KBBmDBhAs6ePWvsqhCZJCebp/GL2yc44/khdrV5HF0qzqhCd0xq8w7+8vwEZ9xew2wbu3tvWMBZ7AgnC3t4iO1hXWVrNugtHYllbd8r/9y9n0iX1/CxtAPsqpS1gJ3IDh4W9nCyaAMnof6n9XbCtuhq2xE9WnVEHysXON13xrcS2sHZyh5Olo5wFtg07mAI7OBhaQ8nC0c4iWxgZdJXF9OhVquxYcMGhIWFISEhAVu3bsUHH3xQ63Vu586dGD16NA4ePNiCNX04hYWFYeLEiTh37pyxq2JUZWVl2LRpE5577rkqrz/33HPYtGkTysrKjFQz05KUlNSoEAgAL730EkJDQzF9+nQ+5CGjM8kWQa1Wi/3792Px4sVo164dfvnlFwQEBBj02ZEjR8LBwQGff/45IiMj8emnn8LS0rKZa/xwOnDgAK5fv4758+djw4YNxq4OkcmxFt4LYyIAIhv8M6XCP0ENwqIag9o/2iDMYQLmO3SEk6DqO04W9vCX+CLY+hJOqpWAFoBADA9x83bV8pBMwtq2j8FDUFspOU5mrcEr8lvNWpeHkVarRWRkJL755hu4urpixYoVBl/nRowYAQcHByxcuBCRkZFYsGABr3MNtH//fly/fh0LFizA+vXrjV0dozlw4ADc3NzQqVOnKq936tQJbm5uOHDgAIYMGWKk2j18pk2bhkWLFmH27NlYvHgxbGwa+SCOqIGMHgS/+uorrFy5EiqVqsrrjzzyCD7++GP06dOn3tvs27cvQkJCMHv2bF3zu0BQ693MQ2nKlCl19mOv4OHhgV9//bXa6507d0Z2dnZTV42IKrGzCcEkaUUILEWSMhbXSrIBsQe6WHvAQ2yLLnZ90KW2jQh98G/HKXhLaq9/H5IwrPMJ++eFslTsyG9oR9B7tECJthQljdvKQ+/rr7/GqlWr9F7nPvroI/Tu3bve23ziiSfQq1cvvPXWW5g+fTp++OEHs7zOTZ06tV7XuZ9//rna6+Z2nSsrK0NqaipSUlKQnJyM5ORkHD9+HB9//LHe8pMnT8bHH3+MO3fuwM3NDW5ubmjXrh1cXV0hEolauPYPj7fffhvz5s3De++9h6+++gpisdFvyckMGf23buXKlTh58iTs7fXfvDSUpaUllixZgilTpuDHH3/E66+/3qTbfxDoC3ZE1DzsrALxvvM/Uc3KwtbAT1qgi5U3ut5r4EuSR2BaznFc05T/3V8yAcuc+sBfBEBbhHx1KUpgASuRLeyasftlRmkU1uTkV2uhBMTwsH4MQ2xtAW0p8jVFzVeJh8SqVatw/PjxZrnOffPNN3jllVfw008/4V//+leTbv9BoC/YUVVpaWnYtWsXEhMTcffuXWRlZcHR0RHt2rXTBbsvv/wSHh4eej/fqVMnfPnllzh37hxSU1Nx7tw5pKSk6Lbj7u4OT09PDB8+HC4uLi387R5cQqEQc+fOxQcffIDPPvusxslliJqT0YOgSqVqsovjjh07sGXLFnzxxRdo164dxGIxPv/8czzzzDMYO3YsHB0dm2Q/RET3s7L0QA99vfNErhjl+CaeagMAFrCr1qPTBnZC2/JupVo5rqnidSEQAO6o4nFHXR4ES0qu4bOMNdhUpqf1TxOH/2XMxf8yqm7dwyYE/YU5+KPwFjKrvGOB3vavoaY+FyWqy/hZdbn6G+LOeM/qsXv7zEdSWSNbFc1AU17ndu7ciS1btmDhwoW669xnn32GsWPHYsyYMbzOUTXXrl1DREQE3nzzTXTu3LlBLXkeHh7VgmJFy+L169exZMkS+Pr6MghWolarsXnzZhw8eBDx8fFQKBR6y1Ws08ggSMZg9CDYlEaMGIG0tDRMnjwZW7Zsgb29Pdzc3DB48GBERETg1VdfNXYVW1RTdA0lIsOUqFJxrfSfgf92Fh7wtyxPfVZiezjV+MlSlGjv/VFgoQuFuu6Wgn9O01bCNghqNRJ+qH2MoJ3143iv9VMYJXHUjVucByC/+Cq2yw9gcUFcg2cHtbPwRrBVeWtnSWka7qg52UFLGj58ONLS0vDyyy9j06ZNuuvcoEGDsH37dkydOtXYVWxRTdE19GE3YMAAJCQkYPv27ejZs2eTdecUiURo1aoVtm3bhrFjx2LAgAFNst2Hwa1bt/B///d/CAgIwBv/3979B0VZ53EAf+8vIFY2Y5U7yk0ip1OMPKWbC465k9IQG2AKA/PIBU2J7qpxF5VoxiSddOYKyy51jGCEpjuLasDJHzBlFtNh09R0HZSdIQTKDcLq7sqPZX889weCECywsPDAPu/Xf7v7PA8fnxn3y5vv8/18s7OxcOHCYTuEulwu5Ofni1AhUS+fCoIymQxZWVlobm5GYWEhjEYjAGD16tXYv3+/5IIggx3R1LHYvsJLbVX42oUb6/X8bgaENnxhrkWtywFAg6ig32HZoAzngMVlhkXQYa4sEFHqP+Dx7iYUdncB0CI+cAmi+mYa/cKRFhw+Yh3+fvchP/hhJN80NChqAu7Ger9fQ6f4J7aYLwz4RAVdYByK/OPQLZhRe60KBR3Nw6z902L5TYuxWAkAdjR1/xffjGf7Cxo3mUyGzZs3o7m5GW+99RYMBgOA3nHu9ddfl1wQlGKwG48NGzZAoVAgNzcXL7300ohdacfKZDIhLy8P0dHR0Ov1XqjSNzQ0NGDLli0wGAyjhuNDhw7h559/xoEDB6aoOqLBfLLBt16vx4kTJ/pfL1q0CD/99JOIFRGRZLnsaOr+FHuulGPPtf+i1fXLA+yo7arDFz29ico/YCnyQl/A2Xk7cPb2PBzUDu0k6p4KywKjEHc9BNq6v8Erl/IRfiEf2e3f4LwTgHwOYoJ+j1V+g/8OqAkIxzJ1OGJm/QZRKs2ADqgDjrlpGZLVut7PHE043d2Asc3FkLetX78eJ0+e7H+9cOFCjnM0Ir1ej9jYWOTm5sJkMk3oWiaTCbm5uYiNjWUIHMDlcmHHjh3IysoaNQRWVFTgk08+YddQEpVPzQj20el0aGlp6X8dFBQEs9ksYkXi4KOhRFNnblAiyoISx3WuracahVd+BZ32T72zhfJAzPUf0GzGXo+jV8qx03qhd5bObYfQYOgU10Oc0IbTliq80dXbDfGUpQohKh3yNXPgr5qHpSrN4BDn7MRllx0QOtEqOIbOBioj8ITmj4jzAwA7mjq+RUW3dDotTjcc53rx0VDPpKenw8/PD9u2bcPevXvHtaa0ra0Nubm5ePDBB5GamjoJVc5cZ86cgVKpRFJS0ojH1dTU4MCBAyguLsYtt9wyRdURDeWTQbCpqQmhoaH9r61Wq9e7tc0EDHZEM0dtx/tYY/sOqbOWYbm/FiEyFSB0oslWh/KOanw6lkcw5Sr4y1W9QdDVhVbXgPV7LgtanV2wAfCXBeJmxcCupnbUmv+BP1/5dvi1g4q78MTsZGya1fs9arOdQ+m1mkFNbWhqcZzrJfVgNx594W3r1q3Yv38/goKCxnyu1WrF1q1bkZCQwBA4jMrKSqxZs2bEY86dO4cdO3bg5ZdfHvR/mEgMPhkEjxw5goSEhP7X33//Pe68804RKyIiX9Ta82+UXu3CvJEe3RTa8a8eD1qzCBY02boGzNZpEa1OxqCd5mRKhMg6cdkOwNneO5MHAK4umPvCnkKLBSotNGjvDXeKX2OxSnt9trATZmfnmEYAf1UUDMEPYf2s641nnC04aT5+fQ0jiaWkpGTQBt8//PADxzkas9TUVFy6dAmVlZVISUkZ83mVlZVYsmQJQ6AbtbW1ePrpp0c8pqCgAHl5ebjnnnumqCoi93wqCAqCgMOHD6OmpgZlZWX97x8/fhz333+/iJURkS+y2etQerUOUNyFv2hTsD4gEN2OH1HY/k+U2jzvoqJRzUfS7FWI8eSbWd6JufK+xjDtqOv5H5pcOiyQByJm9loUqX7EfxxAiP9diFP3dftsxjd2yygjgAbRmmQYb/4tll3vfgpHE46ayrDT2uzxv428QxAEvPnmmzh79izefffd/vePHz+OuLg4ESujmUYul0Olct99eDgqlQpyuU+2l/CKtrY2hISEjHjMwYMHeQ9p2vCpIFhRUYHq6mocOXKk/xGZixcvorKyEh999JHI1RGRz5IpMVcxB3NVKkCmgUauBOB5ELS5HLhsN+OyMNqR7jeUP991FuXX7sBfNXPgr5iDZZo5WDbwAFcbTlvP4mSPA4vd9CfQ+MciPzgeyYE3HjW02c6h5Eq5m26iNFWOHTuG6upqFBcXDxrnqqqqcOzYMZGro5mksbERy5cv9+icsLAwnDlzZpIqmvkcDgeUypF/tR4uBKalpeHo0aOTVRaRWz4VBJOTk5GcnNz/2uFw4LnnnkNmZiY32SUi8bmacdJyEk0KFWzO5iFr7Gy209hy6fTo13HbLAaA80e8YSpCkz0O6wPvGLDfoB3mngs4aT2NNzqaYYP7mQCLo7W3wygACJ04b/0Mf79ahQo794oQW1JS0qBGFA6HA3l5ecjIyOA4Rx5paGhAWFiYR+eEhYWhoaFhkiqa+Xbt2jWu865everlSojGRvQg6OfnB7PZ7PVF7j09PTAYDAgICEBWVpZXr01ENC7OZlRYmlExFT/naikqxvu7hfNHlFpOYa7zV2ju/BSFXewOOhGTOc4ZjUYEBARg8+bNXr02+TaTyQSVSgWNRjPks87OTpw/fx4LFixAYGDgoM80Gg1UKhVMJpNX9iL0NfHx8WKXQOQR0YNgZmYmYmJi0NPTM+j9yMhI5OTkICYmxuNrfvbZZ9izZw/uvvtuFBQUQCYb8yZcREQTowzHppA8rB/t8U6XBV+Yy5DbtyXENGPprsbObrGr8A0ZGRmIjY0ddpwzGo2Ijo52c6Z7n3/+Ofbu3YvFixfjlVde4ThHHmlsbBwyG2iz2fDBBx/gww8/xPz589HY2IiHH34YjzzyCPz9b+wsGhYWhsbGRgZBIh8gehDMyclBTk7OoPcEQcCpU6ewc+dO3Hrrrdi+fTsWLVo0puuVl5ejqKgIBoMBK1eunIySpy2lUgmr1epRK+jhWK3WUZ9xJyJ3VNAoxzbzc6PJC/kyo9EIo9E46D1BEFBZWYn8/HyEhoZi27ZtYx7nKioqUFxcjC1btmDFihWTUfK0xXHOO+rr6/uDoNPpxIkTJ/DOO+9gyZIleO211xAaGoqWlhaUlJQgMzMT69atQ0JCAhQKBcLCwlBfX4+lS5eK/K8goomalt+CMpkMq1atwooVK/Dee+9h48aNiImJwbPPPgudTjfiub9cJyglaWlpSE1NhcPhmNB1lEol0tLSvFQVkQQIXfjJdg5fCIEIGPM5FnztMI9zNtAOi9OCJjsQ4LTc2D7CQzaXBa02MyDrRKswwe0gBAsu95gRILfjstMBG/cYHJFMJkN8fDweeOABlJWVYdOmTYiOjsYzzzwz6jj3y3WCUpKamoq1a9d6ZZyT8hYIFy5cQEREBD7++GO8/fbbmDdvHnbv3o3w8PD+Y0JDQ7F9+3bU19ejuLgY77//PtLT03H77bejrq5OxOqJyFumZRDso1Qq8dhjjyEpKQklJSVISUlBUlISnnrqKT6SMIyMjAxkZGRg5cqVqKqqErscIulwXkCp6TBKp+rnuZpR2v43lE5o6Z4dX1tLkWj1TklNneVY01nunYtJiFKpxNq1a5GYmIjS0lI8+uijSExMRHZ2Nse5Yej1euj1esTHx+PUqVNilzNjtbS04Msvv8Rtt90Gg8GAyMhIt8eGh4dj165d+O6771BUVISLFy+O+scKX6XT6VBTU4P77rvPa9esqamR7P0k8U3rINhHrVYjOzsbaWlpOHjwIFatWoXHH38ca9asgVqtFru8aUer1aKurg4RERETvlZdXR20Wq0XqiIiInfUajWefPJJpKam4tChQ1i9ejXS09ORkpLCcW4YHOcmZt26dRAEAffee++Yz4mMjMS+ffvw1VdfSXZNqsFgQEFBAV544QWvXVOn08FgMHjtekSemBFBsE9wcDCef/55ZGRkYN++fUhISMCGDRvELmvaMRqNePHFF9HePvFOf1qtdsjaFiIimhzBwcHIy8uDXq/Hq6++ioceegiZmZlilzXtGAwG7N6922vjnNR+EY+Kihr3uZ6ER18TERGBwsJCscsg8hqZIAhDetvV19cPek6cPOONhexSxvtHnpj/r41QhHDGhG5wtnagMfqtEY8Z2CyDPMfv6Ynh/ZsY3r+J4f2b+RoaGryS1eReqIWIiIiIiIhmEAZBIiIiIiIiiWEQJCIiIiIikhgGQSIiIiIiIolhECQiIiIiIpIYBkEiIiIiIiKJYRAkIiIiIiKSGAZBIiIiIiIiiWEQJCIiIiIikhgGQSIiIiIiIolhECQiIiIiIpIYBkEiIiIiIiKJYRAkIiIiIiKSGAZBIiIiIiIiiWEQJCIiIiIikhgGQSIiIiIiIolhECSiGU2rCoLQ5RC7DJomBLsTs+WBYpdBREQ07SndfVBfXz+VdfiUjo4OqNVqscuYsXj/yBMbb/oTDl/7BFetHWKXQtPAbHkgNs+6f0zHNjQ0THI1vovf0xPD+zcxvH8Tw/tHfWSCIAhiF0FERERERERTh4+GEhERERERSQyDIBERERERkcQwCBIREREREUkMgyAREREREZHEMAgSERERERFJDIMgERERERGRxDAIEhERERERSQyDIBERERERkcQwCBIREREREUkMgyAREREREZHE/B9IBn+lgN5sTQAAAABJRU5ErkJggg==)"
      ]
    }
  ],
  "metadata": {
    "accelerator": "GPU",
    "colab": {
      "provenance": [],
      "gpuType": "T4"
    },
    "kernelspec": {
      "display_name": "Python 3",
      "name": "python3"
    },
    "language_info": {
      "codemirror_mode": {
        "name": "ipython",
        "version": 3
      },
      "file_extension": ".py",
      "mimetype": "text/x-python",
      "name": "python",
      "nbconvert_exporter": "python",
      "pygments_lexer": "ipython3",
      "version": "3.6.9"
    }
  },
  "nbformat": 4,
  "nbformat_minor": 0
}